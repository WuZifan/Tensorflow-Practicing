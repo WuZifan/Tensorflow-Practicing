{
 "cells": [
  {
   "cell_type": "markdown",
   "metadata": {},
   "source": [
    "# 目标\n",
    "\n",
    "    1、加载昨天fine-tune过的googlenet。\n",
    "    2、并使用它进行预测"
   ]
  },
  {
   "cell_type": "code",
   "execution_count": 1,
   "metadata": {},
   "outputs": [
    {
     "name": "stderr",
     "output_type": "stream",
     "text": [
      "/Users/roland/anaconda3/lib/python3.6/site-packages/h5py/__init__.py:34: FutureWarning: Conversion of the second argument of issubdtype from `float` to `np.floating` is deprecated. In future, it will be treated as `np.float64 == np.dtype(float).type`.\n",
      "  from ._conv import register_converters as _register_converters\n"
     ]
    }
   ],
   "source": [
    "import tensorflow as tf\n",
    "from tensorflow.python.platform import gfile\n",
    "import os\n",
    "import numpy as np"
   ]
  },
  {
   "cell_type": "code",
   "execution_count": 2,
   "metadata": {},
   "outputs": [],
   "source": [
    "'''\n",
    "定义一些全局变量\n",
    "'''\n",
    "DATA_DIR='./data/flower_photos/'\n",
    "INCEPTION_MODEL_DIR = './model/inceptionv3/'\n",
    "INCEPTION_MODEL_FILE = 'tensorflow_inception_graph.pb'\n",
    "FC_MODEL_DIR ='./model/fine_tune_fc/'\n",
    "n_classes = 5\n",
    "\n",
    "BOTTLENECK_TENSOR_NAME = 'pool_3/_reshape:0' # 瓶颈层输出的张量\n",
    "JPEG_DATA_TENSOR_NAME = 'DecodeJpeg/contents:0' # 输入张量名字\n",
    "\n",
    "TEST_SUMMRAY_DIR='./model/logs/'"
   ]
  },
  {
   "cell_type": "code",
   "execution_count": 3,
   "metadata": {},
   "outputs": [],
   "source": [
    "'''\n",
    "加载测试文件以及对应的label\n",
    "'''\n",
    "def get_test_data():\n",
    "    # 加载label\n",
    "    label_dict={}\n",
    "    with open(os.path.join(DATA_DIR,'labels.txt'),'r') as f:\n",
    "        for line in f.readlines():\n",
    "            line=line[1:-1]\n",
    "            value = line.split('->')[0]\n",
    "            key = line.split('->')[1].strip()\n",
    "            label_dict[key]=int(value)\n",
    "        \n",
    "    # 拿到所有的文件信息和对应的label\n",
    "    data_list=[]\n",
    "    label_list=[]\n",
    "    for dir_name in os.listdir(DATA_DIR):\n",
    "        if dir_name in label_dict.keys():\n",
    "            label_index = label_dict[dir_name]\n",
    "            for img_name in os.listdir(os.path.join(DATA_DIR,dir_name)):\n",
    "                abs_path = os.path.join(DATA_DIR,dir_name,img_name)\n",
    "                img_data = gfile.FastGFile(abs_path,'rb').read()\n",
    "                \n",
    "                data_list.append(img_data)\n",
    "                \n",
    "                img_label = np.zeros(n_classes,dtype=np.float32)\n",
    "                img_label[label_index]=1.0\n",
    "                label_list.append(img_label)\n",
    "                \n",
    "    return np.asarray(data_list),np.asarray(label_list)\n",
    "\n",
    "\n",
    "data_list,label_list=get_test_data()"
   ]
  },
  {
   "cell_type": "code",
   "execution_count": 6,
   "metadata": {},
   "outputs": [
    {
     "name": "stdout",
     "output_type": "stream",
     "text": [
      "INFO:tensorflow:Restoring parameters from /Users/roland/Desktop/机器学习/01_MyLab/01_tensorflow_test/Tensorflow-Practicing/Day3_GoogleNetTransformerLearning/runs/1549032598/checkpoints/model-900\n",
      "[1]\n"
     ]
    }
   ],
   "source": [
    "'''\n",
    "加载模型\n",
    "'''\n",
    "tf.reset_default_graph()\n",
    "with tf.Graph().as_default() as graph:\n",
    "#     with gfile.FastGFile(os.path.join(INCEPTION_MODEL_DIR,INCEPTION_MODEL_FILE),'rb') as f:\n",
    "#         graph_def = tf.GraphDef()\n",
    "#         graph_def.ParseFromString(f.read())\n",
    "#         # 加载inception模型，并返回输入张量和输出张量\n",
    "        \n",
    "#         bottleneck_tensor,jped_data_tensor = tf.import_graph_def(graph_def,\n",
    "#                                                                 return_elements=[BOTTLENECK_TENSOR_NAME,\n",
    "#                                                                                  JPEG_DATA_TENSOR_NAME])\n",
    "    with tf.Session(graph=graph) as sess:\n",
    "        # 加载自己写的FC模型\n",
    "        \n",
    "        # 由于昨天保存的时候，inception模型一起保存了\n",
    "        # 所以就是会一起展示\n",
    "        new_saver = tf.train.import_meta_graph(os.path.join(FC_MODEL_DIR,'model-900.meta'))\n",
    "        new_saver.restore(sess,tf.train.latest_checkpoint(FC_MODEL_DIR))\n",
    "        \n",
    "        \n",
    "        \n",
    "        tf.summary.FileWriter(TEST_SUMMRAY_DIR,sess.graph)\n",
    "        # inception的输入输出\n",
    "        inc_input = graph.get_tensor_by_name('import/DecodeJpeg/contents:0')\n",
    "        inc_output = graph.get_tensor_by_name('import/pool_3/_reshape:0')\n",
    "        \n",
    "        # 拿到FC模型的输入输出\n",
    "        fc_input = graph.get_tensor_by_name('BottleneckInputPlaceholder:0')\n",
    "        fc_output = graph.get_tensor_by_name('final_training_ops/add:0')\n",
    "        \n",
    "        \n",
    "        img_feature_vector  = sess.run(inc_output,feed_dict={inc_input:data_list[5]})\n",
    "        \n",
    "        cate_result  = sess.run(fc_output,feed_dict={fc_input:img_feature_vector})\n",
    "        print(sess.run(tf.argmax(cate_result,1)))"
   ]
  },
  {
   "cell_type": "code",
   "execution_count": null,
   "metadata": {},
   "outputs": [],
   "source": []
  }
 ],
 "metadata": {
  "kernelspec": {
   "display_name": "Python 3",
   "language": "python",
   "name": "python3"
  },
  "language_info": {
   "codemirror_mode": {
    "name": "ipython",
    "version": 3
   },
   "file_extension": ".py",
   "mimetype": "text/x-python",
   "name": "python",
   "nbconvert_exporter": "python",
   "pygments_lexer": "ipython3",
   "version": "3.6.3"
  },
  "toc": {
   "nav_menu": {},
   "number_sections": true,
   "sideBar": true,
   "skip_h1_title": false,
   "toc_cell": false,
   "toc_position": {},
   "toc_section_display": "block",
   "toc_window_display": false
  }
 },
 "nbformat": 4,
 "nbformat_minor": 2
}
