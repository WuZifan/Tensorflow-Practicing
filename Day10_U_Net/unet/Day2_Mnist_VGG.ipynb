{
 "cells": [
  {
   "cell_type": "code",
   "execution_count": 4,
   "metadata": {},
   "outputs": [
    {
     "name": "stderr",
     "output_type": "stream",
     "text": [
      "E:\\Python\\PY3.6\\lib\\site-packages\\h5py\\__init__.py:36: FutureWarning: Conversion of the second argument of issubdtype from `float` to `np.floating` is deprecated. In future, it will be treated as `np.float64 == np.dtype(float).type`.\n",
      "  from ._conv import register_converters as _register_converters\n"
     ]
    }
   ],
   "source": [
    "from tensorflow.examples.tutorials.mnist import input_data\n",
    "import tensorflow as tf\n",
    "import matplotlib.pyplot as plt\n",
    "import numpy as np"
   ]
  },
  {
   "cell_type": "code",
   "execution_count": 5,
   "metadata": {},
   "outputs": [
    {
     "name": "stdout",
     "output_type": "stream",
     "text": [
      "Extracting MNIST_data/train-images-idx3-ubyte.gz\n",
      "Extracting MNIST_data/train-labels-idx1-ubyte.gz\n",
      "Extracting MNIST_data/t10k-images-idx3-ubyte.gz\n",
      "Extracting MNIST_data/t10k-labels-idx1-ubyte.gz\n"
     ]
    }
   ],
   "source": [
    "mnist=input_data.read_data_sets('MNIST_data/',one_hot=True)\n",
    "\n",
    "data_dir='./MNIST_data/'\n",
    "log_dir='./logs/example3'"
   ]
  },
  {
   "cell_type": "code",
   "execution_count": 6,
   "metadata": {},
   "outputs": [],
   "source": [
    "def variable_summary(var):\n",
    "    with tf.name_scope('summaries') as scope:\n",
    "        mean=tf.reduce_mean(var)\n",
    "        tf.summary.scalar('mean',mean)\n",
    "        \n",
    "        stddev=tf.sqrt(tf.reduce_mean(tf.square(var-mean)))\n",
    "        \n",
    "        tf.summary.scalar('stddev',stddev)\n",
    "        tf.summary.scalar('max',tf.reduce_max(var))\n",
    "        tf.summary.scalar('min',tf.reduce_min(var))\n",
    "        \n",
    "        tf.summary.histogram('histogram',var)"
   ]
  },
  {
   "cell_type": "code",
   "execution_count": 7,
   "metadata": {},
   "outputs": [],
   "source": [
    "\n",
    "'''\n",
    "回忆卷积步骤\n",
    "1、定义卷积核与bias\n",
    "2、上一层输出，卷积核，一起输入到卷积操作中，\n",
    "3、将结果加上bias\n",
    "4、返回结果\n",
    "\n",
    "'''\n",
    "\n",
    "def conv_2d(input_data,k_h=3,k_w=3,s_h=1,s_w=1,\n",
    "            output_channel=64,padding='SAME',name='conv_i'):\n",
    "    \n",
    "    input_data_channel=int(input_data.shape[-1])\n",
    "    # 这个可以理解为是方便显示用的\n",
    "    with tf.name_scope(name) as scope:\n",
    "        print(input_data_channel)\n",
    "        initial_W = tf.truncated_normal(shape=[k_h,k_w,\n",
    "                                               input_data_channel,\n",
    "                                               output_channel],\n",
    "                                        stddev=0.1)\n",
    "        W=tf.Variable(initial_W,name=name+'_'+'weights')\n",
    "        \n",
    "        variable_summary(W)\n",
    "        \n",
    "        initial_b = tf.constant(0.1,shape=[output_channel])\n",
    "        b=tf.Variable(initial_b,name=name+'_'+'bias')\n",
    "        \n",
    "        variable_summary(b)\n",
    "        '''\n",
    "        strids表示步长的维度信息，定义如下：\n",
    "                [batch, height, width, channels]维度上的步长\n",
    "        '''\n",
    "        conv_op=tf.nn.conv2d(input_data,W,strides=[1,s_h,s_w,1],\n",
    "                             padding=padding,\n",
    "                             name=name+'_'+'conv')\n",
    "        \n",
    "        result=conv_op+b\n",
    "        \n",
    "        # 默认激活函数是relu\n",
    "        result_act=tf.nn.relu(result,name=name+'_'+'activation')\n",
    "        return result_act"
   ]
  },
  {
   "cell_type": "code",
   "execution_count": 12,
   "metadata": {},
   "outputs": [],
   "source": [
    "'''\n",
    "定义池化层\n",
    "'''\n",
    "def max_pool_2d(input_data,p_h=2,p_w=2,s_h=2,s_w=2,\n",
    "                padding='SAME',name='pool_i'):\n",
    "    pool_size=[1,p_h,p_w,1]\n",
    "    pool_strid=[1,s_h,s_w,1]\n",
    "    with tf.name_scope(name) as scope:\n",
    "        max_poolled=tf.nn.max_pool(input_data,\n",
    "                                   ksize=pool_size,\n",
    "                                   strides=pool_strid,\n",
    "                                  padding=padding,name=name+'_maxpool')\n",
    "    \n",
    "    return max_poolled"
   ]
  },
  {
   "cell_type": "code",
   "execution_count": 9,
   "metadata": {},
   "outputs": [],
   "source": [
    "'''\n",
    "定义全连接层\n",
    "'''\n",
    "def dense_2d(input_data,output_dim,keep_prob=0.9,name='dense_i',act=tf.nn.relu):\n",
    "    input_dim=int(input_data.shape[-1])\n",
    "    with tf.name_scope(name) as scope:\n",
    "        # 相当于通过这个方式定义了随机初始化的格式\n",
    "        # 可以理解为只有被定义为/被包裹为variable的tensor，\n",
    "        # 才能够被用来被梯度下降学习\n",
    "        init_W=tf.truncated_normal(shape=[input_dim,output_dim],\n",
    "                                        stddev=0.1)\n",
    "        W=tf.Variable(init_W,name=name+'_weights')\n",
    "        \n",
    "        variable_summary(W)\n",
    "        \n",
    "        b=tf.constant(value=0.1,shape=[output_dim])\n",
    "        b=tf.Variable(b,name=name+'_bias')\n",
    "        variable_summary(b)\n",
    "        \n",
    "        dense=tf.matmul(input_data,W)+b\n",
    "        dense=act(dense)\n",
    "            \n",
    "        dense_dropped=tf.nn.dropout(dense,keep_prob=keep_prob)\n",
    "    \n",
    "    return dense_dropped\n"
   ]
  },
  {
   "cell_type": "code",
   "execution_count": null,
   "metadata": {},
   "outputs": [],
   "source": []
  },
  {
   "cell_type": "code",
   "execution_count": 7,
   "metadata": {},
   "outputs": [],
   "source": [
    "'''\n",
    "之前出问题，因该是有一下原因：\n",
    "    1、maxpool的步长不对，应该是2的，我写成了1\n",
    "    2、最后全连接层名字不对，用了同一个名字，应该导致参数共享了。\n",
    "'''\n",
    "tf.reset_default_graph()\n",
    "'''\n",
    "定义输入\n",
    "'''\n",
    "x_input=tf.placeholder(shape=(None,784),dtype=tf.float32,name='x_input')\n",
    "y_input=tf.placeholder(shape=(None,10),dtype=tf.float32,name='y_input')\n",
    "keep_prob=tf.placeholder(dtype=tf.float32,name='keep_prob')\n",
    "\n",
    "x_input_reshaped=tf.reshape(x_input,shape=[-1,28,28,1])\n",
    "\n",
    "h_conv1=conv_2d(x_input_reshaped,\n",
    "                k_h=5,k_w=5,\n",
    "                s_h=1,s_w=1,\n",
    "                output_channel=32,\n",
    "                name='conv_1')\n",
    "h_pool1=max_pool_2d(h_conv1,\n",
    "                    p_h=2,p_w=2,\n",
    "                    s_h=2,s_w=2,\n",
    "                    padding='SAME',name='pool_1')\n",
    "\n",
    "h_conv2=conv_2d(h_pool1,\n",
    "                k_h=5,k_w=5,\n",
    "                s_h=1,s_w=1,\n",
    "                output_channel=64,name='conv_2')\n",
    "\n",
    "h_pool2=max_pool_2d(h_conv2,\n",
    "                    p_h=2,p_w=2,s_h=2,s_w=2,\n",
    "                    padding='SAME',name='pool_2')\n",
    "\n",
    "part_4_shape=h_pool2.get_shape()\n",
    "flatten_shape=part_4_shape[1]*part_4_shape[2]*part_4_shape[3]\n",
    "flattened=tf.reshape(h_pool2,(-1,flatten_shape))\n",
    "\n",
    "dense_1=dense_2d(flattened,output_dim=1024,\n",
    "                 keep_prob=keep_prob,name='dense_1')\n",
    "dense_2=dense_2d(dense_1,output_dim=10,\n",
    "                 act=tf.nn.softmax,\n",
    "                 keep_prob=1.0,name='dense_2')\n",
    "\n",
    "loss=-tf.reduce_sum(y_input*tf.log(dense_2))\n",
    "trainer=tf.train.AdamOptimizer(learning_rate=1e-4).minimize(loss)"
   ]
  },
  {
   "cell_type": "code",
   "execution_count": null,
   "metadata": {},
   "outputs": [],
   "source": []
  },
  {
   "cell_type": "code",
   "execution_count": 29,
   "metadata": {},
   "outputs": [
    {
     "name": "stdout",
     "output_type": "stream",
     "text": [
      "1\n",
      "64\n",
      "64\n",
      "128\n",
      "128\n",
      "256\n",
      "256\n",
      "256\n",
      "12544\n"
     ]
    },
    {
     "data": {
      "text/plain": [
       "<tf.Tensor 'loss:0' shape=() dtype=string>"
      ]
     },
     "execution_count": 29,
     "metadata": {},
     "output_type": "execute_result"
    }
   ],
   "source": [
    "tf.reset_default_graph()\n",
    "'''\n",
    "定义输入\n",
    "'''\n",
    "x_input=tf.placeholder(shape=(None,784),dtype=tf.float32,name='x_input')\n",
    "y_input=tf.placeholder(shape=(None,10),dtype=tf.float32,name='y_input')\n",
    "keep_prob=tf.placeholder(dtype=tf.float32,name='keep_prob')\n",
    "\n",
    "'''\n",
    "reshape输入\n",
    "'''\n",
    "x_input_reshaped=tf.reshape(x_input,(-1,28,28,1))\n",
    "\n",
    "'''\n",
    "输入图片太小，仿照VGG，做了几层全连接\n",
    "'''\n",
    "\n",
    "\n",
    "part_1_conv_1=conv_2d(x_input_reshaped,\n",
    "                      output_channel=64,k_h=3,k_w=3,\n",
    "                      padding='SAME',name='part_1_conv1')\n",
    "part_1_conv_2=conv_2d(part_1_conv_1,\n",
    "                      output_channel=64,k_h=3,k_w=3,\n",
    "                      padding='SAME',name='part_1_conv2')\n",
    "part_1_max_pool=max_pool_2d(part_1_conv_2,\n",
    "                            p_h=2,p_w=2,s_h=2,s_w=2,\n",
    "                            padding='SAME',name='part_1_maxpool1')\n",
    "\n",
    "part_2_conv_1=conv_2d(part_1_max_pool,\n",
    "                      output_channel=128,k_h=3,k_w=3,\n",
    "                      padding='SAME',name='part_2_conv1')\n",
    "part_2_conv_2=conv_2d(part_2_conv_1,\n",
    "                      output_channel=128,k_h=3,k_w=3,\n",
    "                      padding='SAME',name='part_2_conv2')\n",
    "part_2_max_pool=max_pool_2d(part_2_conv_2,\n",
    "                            p_h=2,p_w=2,s_h=2,s_w=2,\n",
    "                            padding='SAME',name='part_2_maxpool1')\n",
    "\n",
    "part_3_conv_1=conv_2d(part_2_max_pool,\n",
    "                      output_channel=256,k_h=3,k_w=3,\n",
    "                      padding='SAME',name='part_3_conv1')\n",
    "part_3_conv_2=conv_2d(part_3_conv_1,\n",
    "                      output_channel=256,k_h=3,k_w=3,\n",
    "                      padding='SAME',name='part_3_conv2')\n",
    "\n",
    "\n",
    "part_4_conv_1=conv_2d(part_3_conv_2,\n",
    "                      output_channel=256,k_h=3,k_w=3,\n",
    "                      padding='SAME',name='part_4_conv1')\n",
    "part_4_conv_2=conv_2d(part_4_conv_1,\n",
    "                      output_channel=256,k_h=3,k_w=3,\n",
    "                      padding='SAME',name='part_4_conv2')\n",
    "\n",
    "\n",
    "part_4_max_pool=max_pool_2d(part_4_conv_2,\n",
    "                            p_h=2,p_w=2,\n",
    "                            s_h=1,s_w=1,padding='SAME',\n",
    "                            name='part_4_maxpool')\n",
    "\n",
    "# '''\n",
    "# 拉平，准备做全连接\n",
    "# '''\n",
    "part_4_shape=part_4_max_pool.get_shape()\n",
    "flatten_shape=part_4_shape[1]*part_4_shape[2]*part_4_shape[3]\n",
    "flattened=tf.reshape(part_4_max_pool,(-1,flatten_shape))\n",
    "\n",
    "print(flatten_shape)\n",
    "\n",
    "# '''\n",
    "# 全连接\n",
    "# '''\n",
    "dense_1=dense_2d(flattened,output_dim=1024,\n",
    "                 keep_prob=keep_prob,name='dense_1')\n",
    "dense_2=dense_2d(dense_1,output_dim=1024,\n",
    "                 keep_prob=keep_prob,name='dense_2')\n",
    "\n",
    "W_fc3 = tf.Variable(tf.truncated_normal([1024,10],stddev=0.1))\n",
    "b_fc3 = tf.Variable(tf.constant(0.1,shape=[10]))\n",
    "dense_3 = tf.matmul(dense_2, W_fc3) + b_fc3\n",
    "\n",
    "# dense_3=dense_2d(dense_2,output_dim=10,\n",
    "#                  act=tf.nn.softmax,\n",
    "#                  keep_prob=1.0,name='dense_3')\n",
    "\n",
    "'''\n",
    "定义loss和优化器 tf.clip_by_value(y,1e-10,1.0)\n",
    "然而自己写的loss会有数值问题，导致log里面计算的值是0，从而报一个Nan in summary histogram for:xxx的错\n",
    "所以要这样处理一下：\n",
    "从\n",
    "y_input*tf.log(dense_3)\n",
    "变成\n",
    "y_input*tf.log(tf.clip_by_value(dense_3,1e-10,1.0))\n",
    "\n",
    "虽然按照上面的方式改了，但是效果还是不行\n",
    "\n",
    "现在做了如下改动\n",
    "1、减少了pool的次数。\n",
    "2、使用tf提供的cross-entropy-with-logits-v2来操作\n",
    "3、才使得效果提升了\n",
    "4、提升了学习率，从1e-4提升到1e-3。\n",
    "在未提升学习率前，准确率会先从0.1提升至0.8，然后快速回落至0.1~0.3之间震荡\n",
    "然后当提升学习率到1e-3之后，准确率就稳定了。\n",
    "\n",
    "最终解释，什么样效果才好\n",
    "https://www.zybuluo.com/w460461339/note/1393445\n",
    "'''\n",
    "\n",
    "# dense_3_sm=tf.nn.softmax(dense_3)\n",
    "# cross_1=y_input*tf.log(tf.clip_by_value(dense_3_sm,1e-36,1.0))\n",
    "# cross_1=y_input*tf.log(tf.nn.softmax(dense_3))\n",
    "# loss=-tf.reduce_sum(cross_1)\n",
    "                    \n",
    "# print(loss)\n",
    "\n",
    "cross_2=tf.nn.softmax_cross_entropy_with_logits_v2(labels=y_input, logits=dense_3)\n",
    "loss_2=tf.reduce_mean(cross_2)\n",
    "\n",
    "\n",
    "trainer=tf.train.AdamOptimizer(learning_rate=1e-3).minimize(loss_2)\n",
    "\n",
    "tf.summary.scalar('loss',loss_2)"
   ]
  },
  {
   "cell_type": "code",
   "execution_count": 30,
   "metadata": {},
   "outputs": [
    {
     "data": {
      "text/plain": [
       "<tf.Tensor 'accuracy:0' shape=() dtype=string>"
      ]
     },
     "execution_count": 30,
     "metadata": {},
     "output_type": "execute_result"
    }
   ],
   "source": [
    "'''\n",
    "计算精度\n",
    "'''\n",
    "temp_acc=tf.equal(tf.argmax(dense_3,1),tf.argmax(y_input,1))\n",
    "accuracy=tf.reduce_mean(tf.cast(temp_acc,'float'))\n",
    "\n",
    "tf.summary.scalar('accuracy',accuracy)"
   ]
  },
  {
   "cell_type": "code",
   "execution_count": 31,
   "metadata": {
    "scrolled": false
   },
   "outputs": [
    {
     "name": "stdout",
     "output_type": "stream",
     "text": [
      "0 0.12\n",
      "1 0.5\n",
      "2 0.54\n",
      "3 0.68\n",
      "4 0.66\n",
      "5 0.66\n",
      "6 0.74\n",
      "7 0.8\n",
      "8 0.7\n",
      "9 0.84\n",
      "10 0.92\n",
      "11 0.86\n",
      "12 0.82\n",
      "13 0.84\n",
      "14 0.92\n",
      "15 0.94\n",
      "16 0.9\n",
      "17 0.92\n",
      "18 0.9\n",
      "19 0.96\n",
      "20 0.9\n",
      "21 0.94\n",
      "22 0.96\n",
      "23 0.98\n",
      "24 0.92\n",
      "25 0.92\n",
      "26 0.94\n",
      "27 0.98\n",
      "28 0.96\n",
      "29 0.92\n",
      "30 0.9\n",
      "31 0.96\n",
      "32 0.94\n",
      "33 1.0\n",
      "34 0.96\n",
      "35 0.98\n",
      "36 0.96\n",
      "37 0.96\n",
      "38 0.98\n",
      "39 0.94\n",
      "40 0.96\n"
     ]
    },
    {
     "ename": "KeyboardInterrupt",
     "evalue": "",
     "output_type": "error",
     "traceback": [
      "\u001b[1;31m---------------------------------------------------------------------------\u001b[0m",
      "\u001b[1;31mKeyboardInterrupt\u001b[0m                         Traceback (most recent call last)",
      "\u001b[1;32m<ipython-input-31-f76a8342b2ec>\u001b[0m in \u001b[0;36m<module>\u001b[1;34m()\u001b[0m\n\u001b[0;32m     32\u001b[0m         summary_train,_=sess.run([merged,trainer],feed_dict={x_input:batch_x,\n\u001b[0;32m     33\u001b[0m                                     \u001b[0my_input\u001b[0m\u001b[1;33m:\u001b[0m\u001b[0mbatch_y\u001b[0m\u001b[1;33m,\u001b[0m\u001b[1;33m\u001b[0m\u001b[0m\n\u001b[1;32m---> 34\u001b[1;33m                                     keep_prob:0.5})\n\u001b[0m\u001b[0;32m     35\u001b[0m         \u001b[0mtrain_writer\u001b[0m\u001b[1;33m.\u001b[0m\u001b[0madd_summary\u001b[0m\u001b[1;33m(\u001b[0m\u001b[0msummary_train\u001b[0m\u001b[1;33m,\u001b[0m \u001b[0mi\u001b[0m\u001b[1;33m)\u001b[0m\u001b[1;33m\u001b[0m\u001b[0m\n\u001b[0;32m     36\u001b[0m \u001b[1;33m\u001b[0m\u001b[0m\n",
      "\u001b[1;32mE:\\Python\\PY3.6\\lib\\site-packages\\tensorflow\\python\\client\\session.py\u001b[0m in \u001b[0;36mrun\u001b[1;34m(self, fetches, feed_dict, options, run_metadata)\u001b[0m\n\u001b[0;32m    903\u001b[0m     \u001b[1;32mtry\u001b[0m\u001b[1;33m:\u001b[0m\u001b[1;33m\u001b[0m\u001b[0m\n\u001b[0;32m    904\u001b[0m       result = self._run(None, fetches, feed_dict, options_ptr,\n\u001b[1;32m--> 905\u001b[1;33m                          run_metadata_ptr)\n\u001b[0m\u001b[0;32m    906\u001b[0m       \u001b[1;32mif\u001b[0m \u001b[0mrun_metadata\u001b[0m\u001b[1;33m:\u001b[0m\u001b[1;33m\u001b[0m\u001b[0m\n\u001b[0;32m    907\u001b[0m         \u001b[0mproto_data\u001b[0m \u001b[1;33m=\u001b[0m \u001b[0mtf_session\u001b[0m\u001b[1;33m.\u001b[0m\u001b[0mTF_GetBuffer\u001b[0m\u001b[1;33m(\u001b[0m\u001b[0mrun_metadata_ptr\u001b[0m\u001b[1;33m)\u001b[0m\u001b[1;33m\u001b[0m\u001b[0m\n",
      "\u001b[1;32mE:\\Python\\PY3.6\\lib\\site-packages\\tensorflow\\python\\client\\session.py\u001b[0m in \u001b[0;36m_run\u001b[1;34m(self, handle, fetches, feed_dict, options, run_metadata)\u001b[0m\n\u001b[0;32m   1135\u001b[0m     \u001b[1;32mif\u001b[0m \u001b[0mfinal_fetches\u001b[0m \u001b[1;32mor\u001b[0m \u001b[0mfinal_targets\u001b[0m \u001b[1;32mor\u001b[0m \u001b[1;33m(\u001b[0m\u001b[0mhandle\u001b[0m \u001b[1;32mand\u001b[0m \u001b[0mfeed_dict_tensor\u001b[0m\u001b[1;33m)\u001b[0m\u001b[1;33m:\u001b[0m\u001b[1;33m\u001b[0m\u001b[0m\n\u001b[0;32m   1136\u001b[0m       results = self._do_run(handle, final_targets, final_fetches,\n\u001b[1;32m-> 1137\u001b[1;33m                              feed_dict_tensor, options, run_metadata)\n\u001b[0m\u001b[0;32m   1138\u001b[0m     \u001b[1;32melse\u001b[0m\u001b[1;33m:\u001b[0m\u001b[1;33m\u001b[0m\u001b[0m\n\u001b[0;32m   1139\u001b[0m       \u001b[0mresults\u001b[0m \u001b[1;33m=\u001b[0m \u001b[1;33m[\u001b[0m\u001b[1;33m]\u001b[0m\u001b[1;33m\u001b[0m\u001b[0m\n",
      "\u001b[1;32mE:\\Python\\PY3.6\\lib\\site-packages\\tensorflow\\python\\client\\session.py\u001b[0m in \u001b[0;36m_do_run\u001b[1;34m(self, handle, target_list, fetch_list, feed_dict, options, run_metadata)\u001b[0m\n\u001b[0;32m   1353\u001b[0m     \u001b[1;32mif\u001b[0m \u001b[0mhandle\u001b[0m \u001b[1;32mis\u001b[0m \u001b[1;32mNone\u001b[0m\u001b[1;33m:\u001b[0m\u001b[1;33m\u001b[0m\u001b[0m\n\u001b[0;32m   1354\u001b[0m       return self._do_call(_run_fn, self._session, feeds, fetches, targets,\n\u001b[1;32m-> 1355\u001b[1;33m                            options, run_metadata)\n\u001b[0m\u001b[0;32m   1356\u001b[0m     \u001b[1;32melse\u001b[0m\u001b[1;33m:\u001b[0m\u001b[1;33m\u001b[0m\u001b[0m\n\u001b[0;32m   1357\u001b[0m       \u001b[1;32mreturn\u001b[0m \u001b[0mself\u001b[0m\u001b[1;33m.\u001b[0m\u001b[0m_do_call\u001b[0m\u001b[1;33m(\u001b[0m\u001b[0m_prun_fn\u001b[0m\u001b[1;33m,\u001b[0m \u001b[0mself\u001b[0m\u001b[1;33m.\u001b[0m\u001b[0m_session\u001b[0m\u001b[1;33m,\u001b[0m \u001b[0mhandle\u001b[0m\u001b[1;33m,\u001b[0m \u001b[0mfeeds\u001b[0m\u001b[1;33m,\u001b[0m \u001b[0mfetches\u001b[0m\u001b[1;33m)\u001b[0m\u001b[1;33m\u001b[0m\u001b[0m\n",
      "\u001b[1;32mE:\\Python\\PY3.6\\lib\\site-packages\\tensorflow\\python\\client\\session.py\u001b[0m in \u001b[0;36m_do_call\u001b[1;34m(self, fn, *args)\u001b[0m\n\u001b[0;32m   1359\u001b[0m   \u001b[1;32mdef\u001b[0m \u001b[0m_do_call\u001b[0m\u001b[1;33m(\u001b[0m\u001b[0mself\u001b[0m\u001b[1;33m,\u001b[0m \u001b[0mfn\u001b[0m\u001b[1;33m,\u001b[0m \u001b[1;33m*\u001b[0m\u001b[0margs\u001b[0m\u001b[1;33m)\u001b[0m\u001b[1;33m:\u001b[0m\u001b[1;33m\u001b[0m\u001b[0m\n\u001b[0;32m   1360\u001b[0m     \u001b[1;32mtry\u001b[0m\u001b[1;33m:\u001b[0m\u001b[1;33m\u001b[0m\u001b[0m\n\u001b[1;32m-> 1361\u001b[1;33m       \u001b[1;32mreturn\u001b[0m \u001b[0mfn\u001b[0m\u001b[1;33m(\u001b[0m\u001b[1;33m*\u001b[0m\u001b[0margs\u001b[0m\u001b[1;33m)\u001b[0m\u001b[1;33m\u001b[0m\u001b[0m\n\u001b[0m\u001b[0;32m   1362\u001b[0m     \u001b[1;32mexcept\u001b[0m \u001b[0merrors\u001b[0m\u001b[1;33m.\u001b[0m\u001b[0mOpError\u001b[0m \u001b[1;32mas\u001b[0m \u001b[0me\u001b[0m\u001b[1;33m:\u001b[0m\u001b[1;33m\u001b[0m\u001b[0m\n\u001b[0;32m   1363\u001b[0m       \u001b[0mmessage\u001b[0m \u001b[1;33m=\u001b[0m \u001b[0mcompat\u001b[0m\u001b[1;33m.\u001b[0m\u001b[0mas_text\u001b[0m\u001b[1;33m(\u001b[0m\u001b[0me\u001b[0m\u001b[1;33m.\u001b[0m\u001b[0mmessage\u001b[0m\u001b[1;33m)\u001b[0m\u001b[1;33m\u001b[0m\u001b[0m\n",
      "\u001b[1;32mE:\\Python\\PY3.6\\lib\\site-packages\\tensorflow\\python\\client\\session.py\u001b[0m in \u001b[0;36m_run_fn\u001b[1;34m(session, feed_dict, fetch_list, target_list, options, run_metadata)\u001b[0m\n\u001b[0;32m   1338\u001b[0m         \u001b[1;32melse\u001b[0m\u001b[1;33m:\u001b[0m\u001b[1;33m\u001b[0m\u001b[0m\n\u001b[0;32m   1339\u001b[0m           return tf_session.TF_Run(session, options, feed_dict, fetch_list,\n\u001b[1;32m-> 1340\u001b[1;33m                                    target_list, status, run_metadata)\n\u001b[0m\u001b[0;32m   1341\u001b[0m \u001b[1;33m\u001b[0m\u001b[0m\n\u001b[0;32m   1342\u001b[0m     \u001b[1;32mdef\u001b[0m \u001b[0m_prun_fn\u001b[0m\u001b[1;33m(\u001b[0m\u001b[0msession\u001b[0m\u001b[1;33m,\u001b[0m \u001b[0mhandle\u001b[0m\u001b[1;33m,\u001b[0m \u001b[0mfeed_dict\u001b[0m\u001b[1;33m,\u001b[0m \u001b[0mfetch_list\u001b[0m\u001b[1;33m)\u001b[0m\u001b[1;33m:\u001b[0m\u001b[1;33m\u001b[0m\u001b[0m\n",
      "\u001b[1;31mKeyboardInterrupt\u001b[0m: "
     ]
    }
   ],
   "source": [
    "# 合并summary\n",
    "merged = tf.summary.merge_all()\n",
    "\n",
    "'''\n",
    "train\n",
    "'''\n",
    "init=tf.global_variables_initializer()\n",
    "with tf.Session() as sess:\n",
    "    sess.run(init)\n",
    "    \n",
    "    # 写到磁盘\n",
    "    train_writer = tf.summary.FileWriter(log_dir+'/train',sess.graph)\n",
    "    test_writer = tf.summary.FileWriter(log_dir+'/test')\n",
    "   \n",
    "    for i in range(20000):\n",
    "        batch_x,batch_y=mnist.train.next_batch(50)\n",
    "        \n",
    "        if i%100==0:\n",
    "            summary_res,result=sess.run([merged,accuracy],feed_dict={x_input:batch_x,\n",
    "                                                y_input:batch_y,\n",
    "                                                keep_prob:1.0})\n",
    "#             my_loss,tf_loss,cr_1,cr_2,dense3_res,dense3_sm_res=sess.run([loss,loss_2,cross_1,cross_2,dense_3,dense_3_sm],feed_dict={x_input:batch_x,\n",
    "#                                                 y_input:batch_y,\n",
    "#                                                 keep_prob:1.0})\n",
    "#             print('my_loss:',my_loss,cr_1,'tf_loss:',tf_loss,cr_2)\n",
    "            \n",
    "#             print(batch_y,dense3_res,dense3_sm_res)\n",
    "            \n",
    "            test_writer.add_summary(summary_res, i)\n",
    "            print(int(i/100),result)\n",
    "\n",
    "        summary_train,_=sess.run([merged,trainer],feed_dict={x_input:batch_x,\n",
    "                                    y_input:batch_y,\n",
    "                                    keep_prob:0.5})\n",
    "        train_writer.add_summary(summary_train, i)\n",
    "\n",
    "    batch_test_x=mnist.test.images\n",
    "    batch_test_y=mnist.test.labels\n",
    "    all_test=sess.run(accuracy,feed_dict={x_input:batch_test_x,\n",
    "                                          y_input:batch_test_y,\n",
    "                                          keep_prob:1.0})\n",
    "    print(all_test)"
   ]
  },
  {
   "cell_type": "code",
   "execution_count": 12,
   "metadata": {},
   "outputs": [
    {
     "name": "stdout",
     "output_type": "stream",
     "text": [
      "(50, 784) (50, 10)\n",
      "epoch: 0 0.0\n",
      "(50, 784) (50, 10)\n",
      "epoch: 50 0.06\n",
      "(50, 784) (50, 10)\n",
      "epoch: 100 0.08\n"
     ]
    },
    {
     "ename": "KeyboardInterrupt",
     "evalue": "",
     "output_type": "error",
     "traceback": [
      "\u001b[0;31m---------------------------------------------------------------------------\u001b[0m",
      "\u001b[0;31mKeyboardInterrupt\u001b[0m                         Traceback (most recent call last)",
      "\u001b[0;32m<ipython-input-12-fd20efc2fa0f>\u001b[0m in \u001b[0;36m<module>\u001b[0;34m()\u001b[0m\n\u001b[1;32m     21\u001b[0m         \u001b[0mbatch_x\u001b[0m\u001b[0;34m,\u001b[0m\u001b[0mbatch_y\u001b[0m\u001b[0;34m=\u001b[0m\u001b[0mmnist\u001b[0m\u001b[0;34m.\u001b[0m\u001b[0mtrain\u001b[0m\u001b[0;34m.\u001b[0m\u001b[0mnext_batch\u001b[0m\u001b[0;34m(\u001b[0m\u001b[0;36m100\u001b[0m\u001b[0;34m)\u001b[0m\u001b[0;34m\u001b[0m\u001b[0m\n\u001b[1;32m     22\u001b[0m         \u001b[0mfeed_dict\u001b[0m\u001b[0;34m=\u001b[0m\u001b[0;34m{\u001b[0m\u001b[0mx_input\u001b[0m\u001b[0;34m:\u001b[0m\u001b[0mbatch_x\u001b[0m\u001b[0;34m,\u001b[0m\u001b[0my_input\u001b[0m\u001b[0;34m:\u001b[0m\u001b[0mbatch_y\u001b[0m\u001b[0;34m,\u001b[0m\u001b[0mkeep_prob\u001b[0m\u001b[0;34m:\u001b[0m\u001b[0;36m0.5\u001b[0m\u001b[0;34m}\u001b[0m\u001b[0;34m\u001b[0m\u001b[0m\n\u001b[0;32m---> 23\u001b[0;31m         \u001b[0msess\u001b[0m\u001b[0;34m.\u001b[0m\u001b[0mrun\u001b[0m\u001b[0;34m(\u001b[0m\u001b[0;34m[\u001b[0m\u001b[0mtrainer\u001b[0m\u001b[0;34m]\u001b[0m\u001b[0;34m,\u001b[0m\u001b[0mfeed_dict\u001b[0m\u001b[0;34m)\u001b[0m\u001b[0;34m\u001b[0m\u001b[0m\n\u001b[0m\u001b[1;32m     24\u001b[0m \u001b[0;34m\u001b[0m\u001b[0m\n\u001b[1;32m     25\u001b[0m     all_acc=sess.run([accuracy],feed_dict={x_input:mnist.test.images,\n",
      "\u001b[0;32m~/anaconda3/lib/python3.6/site-packages/tensorflow/python/client/session.py\u001b[0m in \u001b[0;36mrun\u001b[0;34m(self, fetches, feed_dict, options, run_metadata)\u001b[0m\n\u001b[1;32m    887\u001b[0m     \u001b[0;32mtry\u001b[0m\u001b[0;34m:\u001b[0m\u001b[0;34m\u001b[0m\u001b[0m\n\u001b[1;32m    888\u001b[0m       result = self._run(None, fetches, feed_dict, options_ptr,\n\u001b[0;32m--> 889\u001b[0;31m                          run_metadata_ptr)\n\u001b[0m\u001b[1;32m    890\u001b[0m       \u001b[0;32mif\u001b[0m \u001b[0mrun_metadata\u001b[0m\u001b[0;34m:\u001b[0m\u001b[0;34m\u001b[0m\u001b[0m\n\u001b[1;32m    891\u001b[0m         \u001b[0mproto_data\u001b[0m \u001b[0;34m=\u001b[0m \u001b[0mtf_session\u001b[0m\u001b[0;34m.\u001b[0m\u001b[0mTF_GetBuffer\u001b[0m\u001b[0;34m(\u001b[0m\u001b[0mrun_metadata_ptr\u001b[0m\u001b[0;34m)\u001b[0m\u001b[0;34m\u001b[0m\u001b[0m\n",
      "\u001b[0;32m~/anaconda3/lib/python3.6/site-packages/tensorflow/python/client/session.py\u001b[0m in \u001b[0;36m_run\u001b[0;34m(self, handle, fetches, feed_dict, options, run_metadata)\u001b[0m\n\u001b[1;32m   1118\u001b[0m     \u001b[0;32mif\u001b[0m \u001b[0mfinal_fetches\u001b[0m \u001b[0;32mor\u001b[0m \u001b[0mfinal_targets\u001b[0m \u001b[0;32mor\u001b[0m \u001b[0;34m(\u001b[0m\u001b[0mhandle\u001b[0m \u001b[0;32mand\u001b[0m \u001b[0mfeed_dict_tensor\u001b[0m\u001b[0;34m)\u001b[0m\u001b[0;34m:\u001b[0m\u001b[0;34m\u001b[0m\u001b[0m\n\u001b[1;32m   1119\u001b[0m       results = self._do_run(handle, final_targets, final_fetches,\n\u001b[0;32m-> 1120\u001b[0;31m                              feed_dict_tensor, options, run_metadata)\n\u001b[0m\u001b[1;32m   1121\u001b[0m     \u001b[0;32melse\u001b[0m\u001b[0;34m:\u001b[0m\u001b[0;34m\u001b[0m\u001b[0m\n\u001b[1;32m   1122\u001b[0m       \u001b[0mresults\u001b[0m \u001b[0;34m=\u001b[0m \u001b[0;34m[\u001b[0m\u001b[0;34m]\u001b[0m\u001b[0;34m\u001b[0m\u001b[0m\n",
      "\u001b[0;32m~/anaconda3/lib/python3.6/site-packages/tensorflow/python/client/session.py\u001b[0m in \u001b[0;36m_do_run\u001b[0;34m(self, handle, target_list, fetch_list, feed_dict, options, run_metadata)\u001b[0m\n\u001b[1;32m   1315\u001b[0m     \u001b[0;32mif\u001b[0m \u001b[0mhandle\u001b[0m \u001b[0;32mis\u001b[0m \u001b[0;32mNone\u001b[0m\u001b[0;34m:\u001b[0m\u001b[0;34m\u001b[0m\u001b[0m\n\u001b[1;32m   1316\u001b[0m       return self._do_call(_run_fn, self._session, feeds, fetches, targets,\n\u001b[0;32m-> 1317\u001b[0;31m                            options, run_metadata)\n\u001b[0m\u001b[1;32m   1318\u001b[0m     \u001b[0;32melse\u001b[0m\u001b[0;34m:\u001b[0m\u001b[0;34m\u001b[0m\u001b[0m\n\u001b[1;32m   1319\u001b[0m       \u001b[0;32mreturn\u001b[0m \u001b[0mself\u001b[0m\u001b[0;34m.\u001b[0m\u001b[0m_do_call\u001b[0m\u001b[0;34m(\u001b[0m\u001b[0m_prun_fn\u001b[0m\u001b[0;34m,\u001b[0m \u001b[0mself\u001b[0m\u001b[0;34m.\u001b[0m\u001b[0m_session\u001b[0m\u001b[0;34m,\u001b[0m \u001b[0mhandle\u001b[0m\u001b[0;34m,\u001b[0m \u001b[0mfeeds\u001b[0m\u001b[0;34m,\u001b[0m \u001b[0mfetches\u001b[0m\u001b[0;34m)\u001b[0m\u001b[0;34m\u001b[0m\u001b[0m\n",
      "\u001b[0;32m~/anaconda3/lib/python3.6/site-packages/tensorflow/python/client/session.py\u001b[0m in \u001b[0;36m_do_call\u001b[0;34m(self, fn, *args)\u001b[0m\n\u001b[1;32m   1321\u001b[0m   \u001b[0;32mdef\u001b[0m \u001b[0m_do_call\u001b[0m\u001b[0;34m(\u001b[0m\u001b[0mself\u001b[0m\u001b[0;34m,\u001b[0m \u001b[0mfn\u001b[0m\u001b[0;34m,\u001b[0m \u001b[0;34m*\u001b[0m\u001b[0margs\u001b[0m\u001b[0;34m)\u001b[0m\u001b[0;34m:\u001b[0m\u001b[0;34m\u001b[0m\u001b[0m\n\u001b[1;32m   1322\u001b[0m     \u001b[0;32mtry\u001b[0m\u001b[0;34m:\u001b[0m\u001b[0;34m\u001b[0m\u001b[0m\n\u001b[0;32m-> 1323\u001b[0;31m       \u001b[0;32mreturn\u001b[0m \u001b[0mfn\u001b[0m\u001b[0;34m(\u001b[0m\u001b[0;34m*\u001b[0m\u001b[0margs\u001b[0m\u001b[0;34m)\u001b[0m\u001b[0;34m\u001b[0m\u001b[0m\n\u001b[0m\u001b[1;32m   1324\u001b[0m     \u001b[0;32mexcept\u001b[0m \u001b[0merrors\u001b[0m\u001b[0;34m.\u001b[0m\u001b[0mOpError\u001b[0m \u001b[0;32mas\u001b[0m \u001b[0me\u001b[0m\u001b[0;34m:\u001b[0m\u001b[0;34m\u001b[0m\u001b[0m\n\u001b[1;32m   1325\u001b[0m       \u001b[0mmessage\u001b[0m \u001b[0;34m=\u001b[0m \u001b[0mcompat\u001b[0m\u001b[0;34m.\u001b[0m\u001b[0mas_text\u001b[0m\u001b[0;34m(\u001b[0m\u001b[0me\u001b[0m\u001b[0;34m.\u001b[0m\u001b[0mmessage\u001b[0m\u001b[0;34m)\u001b[0m\u001b[0;34m\u001b[0m\u001b[0m\n",
      "\u001b[0;32m~/anaconda3/lib/python3.6/site-packages/tensorflow/python/client/session.py\u001b[0m in \u001b[0;36m_run_fn\u001b[0;34m(session, feed_dict, fetch_list, target_list, options, run_metadata)\u001b[0m\n\u001b[1;32m   1300\u001b[0m           return tf_session.TF_Run(session, options,\n\u001b[1;32m   1301\u001b[0m                                    \u001b[0mfeed_dict\u001b[0m\u001b[0;34m,\u001b[0m \u001b[0mfetch_list\u001b[0m\u001b[0;34m,\u001b[0m \u001b[0mtarget_list\u001b[0m\u001b[0;34m,\u001b[0m\u001b[0;34m\u001b[0m\u001b[0m\n\u001b[0;32m-> 1302\u001b[0;31m                                    status, run_metadata)\n\u001b[0m\u001b[1;32m   1303\u001b[0m \u001b[0;34m\u001b[0m\u001b[0m\n\u001b[1;32m   1304\u001b[0m     \u001b[0;32mdef\u001b[0m \u001b[0m_prun_fn\u001b[0m\u001b[0;34m(\u001b[0m\u001b[0msession\u001b[0m\u001b[0;34m,\u001b[0m \u001b[0mhandle\u001b[0m\u001b[0;34m,\u001b[0m \u001b[0mfeed_dict\u001b[0m\u001b[0;34m,\u001b[0m \u001b[0mfetch_list\u001b[0m\u001b[0;34m)\u001b[0m\u001b[0;34m:\u001b[0m\u001b[0;34m\u001b[0m\u001b[0m\n",
      "\u001b[0;31mKeyboardInterrupt\u001b[0m: "
     ]
    }
   ],
   "source": [
    "'''\n",
    "训练\n",
    "'''\n",
    "epochs=1000\n",
    "initial=tf.global_variables_initializer()\n",
    "with tf.Session() as sess:\n",
    "    sess.run(initial)\n",
    "    \n",
    "    for i in range(epochs):\n",
    "        if i%50==0:\n",
    "            batch_x,batch_y=mnist.train.next_batch(50)\n",
    "#             test_x=mnist.validation.images\n",
    "#             test_y=mnist.validation.labels\n",
    "            print(batch_x.shape,batch_y.shape)\n",
    "#             feed_dict={x_input:test_x,\n",
    "#                        y_input:test_y,\n",
    "#                        keep_prob:1.0}\n",
    "            _,temp_acc=sess.run([trainer,accuracy],feed_dict={x_input:batch_x, y_input:batch_y,keep_prob:1.0})\n",
    "            print('epoch:',i,temp_acc)\n",
    "            \n",
    "        batch_x,batch_y=mnist.train.next_batch(100)\n",
    "        feed_dict={x_input:batch_x,y_input:batch_y,keep_prob:0.5}\n",
    "        sess.run([trainer],feed_dict)\n",
    "\n",
    "    all_acc=sess.run([accuracy],feed_dict={x_input:mnist.test.images,\n",
    "                                   y_input:mnist.test.labels,\n",
    "                                   keep_prob:1.0})\n",
    "    print('all test accuracy:',all_acc)\n"
   ]
  },
  {
   "cell_type": "code",
   "execution_count": 54,
   "metadata": {},
   "outputs": [
    {
     "data": {
      "text/plain": [
       "(5000, 784)"
      ]
     },
     "execution_count": 54,
     "metadata": {},
     "output_type": "execute_result"
    }
   ],
   "source": [
    "mnist.validation.images.shape"
   ]
  },
  {
   "cell_type": "code",
   "execution_count": 55,
   "metadata": {},
   "outputs": [
    {
     "data": {
      "text/plain": [
       "(10000, 784)"
      ]
     },
     "execution_count": 55,
     "metadata": {},
     "output_type": "execute_result"
    }
   ],
   "source": [
    "mnist.test.images.shape"
   ]
  },
  {
   "cell_type": "code",
   "execution_count": null,
   "metadata": {},
   "outputs": [],
   "source": []
  }
 ],
 "metadata": {
  "kernelspec": {
   "display_name": "Python 3",
   "language": "python",
   "name": "python3"
  },
  "language_info": {
   "codemirror_mode": {
    "name": "ipython",
    "version": 3
   },
   "file_extension": ".py",
   "mimetype": "text/x-python",
   "name": "python",
   "nbconvert_exporter": "python",
   "pygments_lexer": "ipython3",
   "version": "3.6.4"
  },
  "toc": {
   "base_numbering": 1,
   "nav_menu": {},
   "number_sections": true,
   "sideBar": true,
   "skip_h1_title": false,
   "title_cell": "Table of Contents",
   "title_sidebar": "Contents",
   "toc_cell": false,
   "toc_position": {},
   "toc_section_display": true,
   "toc_window_display": false
  }
 },
 "nbformat": 4,
 "nbformat_minor": 2
}
