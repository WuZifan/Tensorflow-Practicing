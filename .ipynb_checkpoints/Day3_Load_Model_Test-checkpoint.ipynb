{
 "cells": [
  {
   "cell_type": "code",
   "execution_count": 1,
   "metadata": {},
   "outputs": [
    {
     "name": "stderr",
     "output_type": "stream",
     "text": [
      "E:\\Python\\PY3.6\\lib\\site-packages\\h5py\\__init__.py:36: FutureWarning: Conversion of the second argument of issubdtype from `float` to `np.floating` is deprecated. In future, it will be treated as `np.float64 == np.dtype(float).type`.\n",
      "  from ._conv import register_converters as _register_converters\n"
     ]
    }
   ],
   "source": [
    "from tensorflow.examples.tutorials.mnist import input_data\n",
    "import tensorflow as tf\n",
    "import matplotlib.pyplot as plt\n",
    "import numpy as np\n",
    "import os"
   ]
  },
  {
   "cell_type": "code",
   "execution_count": 2,
   "metadata": {},
   "outputs": [
    {
     "name": "stdout",
     "output_type": "stream",
     "text": [
      "Extracting MNIST_data/train-images-idx3-ubyte.gz\n",
      "Extracting MNIST_data/train-labels-idx1-ubyte.gz\n",
      "Extracting MNIST_data/t10k-images-idx3-ubyte.gz\n",
      "Extracting MNIST_data/t10k-labels-idx1-ubyte.gz\n"
     ]
    }
   ],
   "source": [
    "mnist=input_data.read_data_sets('MNIST_data/',one_hot=True)\n",
    "\n",
    "data_dir='./MNIST_data/'"
   ]
  },
  {
   "cell_type": "code",
   "execution_count": 10,
   "metadata": {},
   "outputs": [
    {
     "data": {
      "text/plain": [
       "(2, 10)"
      ]
     },
     "execution_count": 10,
     "metadata": {},
     "output_type": "execute_result"
    }
   ],
   "source": [
    "test_images=mnist.test.images[:2]\n",
    "test_labels=mnist.test.labels[:2]\n",
    "test_labels.shape"
   ]
  },
  {
   "cell_type": "code",
   "execution_count": 25,
   "metadata": {},
   "outputs": [
    {
     "name": "stdout",
     "output_type": "stream",
     "text": [
      "<bound method Graph.unique_name of <tensorflow.python.framework.ops.Graph object at 0x00000000163490B8>>\n",
      "INFO:tensorflow:Restoring parameters from ./Day2_Saved_Model/my_easy_cnn_0.96-400\n",
      "<bound method Graph.unique_name of <tensorflow.python.framework.ops.Graph object at 0x00000000163490B8>>\n",
      "[[1.2822046e-05 1.2801580e-05 5.9274998e-06 1.0703708e-04 5.1422398e-06\n",
      "  6.8234767e-05 1.2786012e-07 9.9962687e-01 3.8585971e-05 1.2238996e-04]\n",
      " [1.4158202e-02 5.9154531e-04 9.7463328e-01 7.1001081e-03 1.2195068e-05\n",
      "  7.5873465e-04 2.2351402e-03 1.5766825e-06 5.0831324e-04 9.1256078e-07]]\n",
      "2 (2, 10)\n",
      "1.0\n"
     ]
    }
   ],
   "source": [
    "'''\n",
    "load 模型\n",
    "保存的模型文件有：\n",
    "    1、  .meta文件：记录模型的图构造\n",
    "    2、  .index和.dataxxx文件，记录参数。\n",
    "\n",
    "所以，对一个模型不同时段保存的内容，meta文件可以共用一个（反正网络相同），\n",
    "然后加载不同的.index和.dataxxx文件即可\n",
    "\n",
    "operations\n",
    "tensor\n",
    "collections\n",
    "\n",
    "这三种参数的区别\n",
    "\n",
    "'''\n",
    "\n",
    "'''\n",
    "出现了问题：\n",
    "    1、当不调用tf.reset_default_graph的时候，每次运行一次上面的程序，\n",
    "       pred_result的结果就会被重复一次。从最初的[2,10],变成[2,2,10],[3,2,10],[4,2,10]\n",
    "    2、原因：\n",
    "       2.1 new_saver对应的两个步骤将预训练模型加载进当前的Graph。\n",
    "       2.2 第一次调用，没有问题，得到正确结果。\n",
    "       2.3 第二次调用，在同一个Graph上，重复加载模型，那么相当于存在两个重复的模型。\n",
    "       2.4 那么，存在重复的名为'predict'的collection，运行sess.run时，是执行了两个predict\n",
    "       2.5 所以第二次的结果的shape才是[2,2,10]，同理，第三次才是[3,2,10]\n",
    "\n",
    "'''\n",
    "tf.reset_default_graph()\n",
    "\n",
    "model_dir='./Day2_Saved_Model/'\n",
    "with tf.Session() as sess:\n",
    "    print(sess.graph.unique_name)\n",
    "    \n",
    "    new_saver = tf.train.import_meta_graph(os.path.join(model_dir,'my_easy_cnn_0.96-400.meta'))\n",
    "    new_saver.restore(sess,tf.train.latest_checkpoint(model_dir))\n",
    "    \n",
    "    # 拿到此时的graph\n",
    "    graph = tf.get_default_graph()\n",
    "    \n",
    "    print(graph.unique_name)\n",
    "    \n",
    "    # 根据名称拿到input 和 ooutput\n",
    "    restore_input = graph.get_tensor_by_name('x_input:0')\n",
    "    restore_keep_prob = graph.get_tensor_by_name('keep_prob:0')\n",
    "    restore_output = graph.get_collection('predict')\n",
    "    \n",
    "    pred_result = sess.run(restore_output,feed_dict={restore_input:test_images,\n",
    "                                                     restore_keep_prob:1.0})\n",
    "    pred_result=np.squeeze(pred_result)\n",
    "    print(pred_result)\n",
    "    print(len(pred_result),test_labels.shape)\n",
    "    temp_acc=tf.equal(tf.argmax(pred_result,1),tf.argmax(test_labels,1))\n",
    "    accuracy=tf.reduce_mean(tf.cast(temp_acc,'float'))\n",
    "    print(sess.run(accuracy))\n",
    "    \n"
   ]
  },
  {
   "cell_type": "code",
   "execution_count": null,
   "metadata": {},
   "outputs": [],
   "source": []
  }
 ],
 "metadata": {
  "kernelspec": {
   "display_name": "Python 3",
   "language": "python",
   "name": "python3"
  },
  "language_info": {
   "codemirror_mode": {
    "name": "ipython",
    "version": 3
   },
   "file_extension": ".py",
   "mimetype": "text/x-python",
   "name": "python",
   "nbconvert_exporter": "python",
   "pygments_lexer": "ipython3",
   "version": "3.6.3"
  },
  "toc": {
   "nav_menu": {},
   "number_sections": true,
   "sideBar": true,
   "skip_h1_title": false,
   "toc_cell": false,
   "toc_position": {},
   "toc_section_display": true,
   "toc_window_display": false
  }
 },
 "nbformat": 4,
 "nbformat_minor": 2
}
