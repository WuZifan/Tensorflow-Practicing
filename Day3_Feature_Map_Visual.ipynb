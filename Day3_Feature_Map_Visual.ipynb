{
 "cells": [
  {
   "cell_type": "code",
   "execution_count": 11,
   "metadata": {},
   "outputs": [
    {
     "name": "stdout",
     "output_type": "stream",
     "text": [
      "Extracting MNIST_data/train-images-idx3-ubyte.gz\n",
      "Extracting MNIST_data/train-labels-idx1-ubyte.gz\n",
      "Extracting MNIST_data/t10k-images-idx3-ubyte.gz\n",
      "Extracting MNIST_data/t10k-labels-idx1-ubyte.gz\n"
     ]
    }
   ],
   "source": [
    "#!/usr/bin/python\n",
    "# -*- coding: UTF-8 -*-\n",
    "\n",
    "from tensorflow.examples.tutorials.mnist import input_data\n",
    "import tensorflow as tf\n",
    "import matplotlib.pyplot as plt\n",
    "import numpy as np\n",
    "import cv2\n",
    "\n",
    "mnist=input_data.read_data_sets('MNIST_data/',one_hot=True)"
   ]
  },
  {
   "cell_type": "code",
   "execution_count": 3,
   "metadata": {},
   "outputs": [],
   "source": [
    "def conv_2d(input_data,k_h=3,k_w=3,s_h=1,s_w=1,\n",
    "            output_channel=64,padding='SAME',name='conv_i'):\n",
    "    \n",
    "    input_data_channel=int(input_data.shape[-1])\n",
    "    # 这个可以理解为是方便显示用的\n",
    "    with tf.name_scope(name) as scope:\n",
    "        initial_W = tf.truncated_normal(shape=[k_h,k_w,\n",
    "                                               input_data_channel,\n",
    "                                               output_channel],\n",
    "                                        stddev=0.1)\n",
    "        W=tf.Variable(initial_W,name=name+'_'+'weights')\n",
    "        \n",
    "        initial_b = tf.constant(0.1,shape=[output_channel])\n",
    "        b=tf.Variable(initial_b,name=name+'_'+'bias')\n",
    "        '''\n",
    "        strids表示步长的维度信息，定义如下：\n",
    "                [batch, height, width, channels]维度上的步长\n",
    "        '''\n",
    "        conv_op=tf.nn.conv2d(input_data,W,strides=[1,s_h,s_w,1],\n",
    "                             padding=padding,\n",
    "                             name=name+'_'+'conv')\n",
    "        \n",
    "        result=conv_op+b\n",
    "        \n",
    "        # 默认激活函数是relu\n",
    "        result_act=tf.nn.relu(result,name=name+'_'+'activation')\n",
    "        return result_act"
   ]
  },
  {
   "cell_type": "code",
   "execution_count": 4,
   "metadata": {},
   "outputs": [],
   "source": [
    "'''\n",
    "定义池化层\n",
    "'''\n",
    "def max_pool_2d(input_data,p_h=2,p_w=2,s_h=2,s_w=2,\n",
    "                padding='SAME',name='pool_i'):\n",
    "    pool_size=[1,p_h,p_w,1]\n",
    "    pool_strid=[1,s_h,s_w,1]\n",
    "    with tf.name_scope(name) as scope:\n",
    "        max_poolled=tf.nn.max_pool(input_data,\n",
    "                                   ksize=pool_size,\n",
    "                                   strides=pool_strid,\n",
    "                                  padding=padding,name=name+'_maxpool')\n",
    "    \n",
    "    return max_poolled"
   ]
  },
  {
   "cell_type": "code",
   "execution_count": 5,
   "metadata": {},
   "outputs": [],
   "source": [
    "'''\n",
    "定义全连接层\n",
    "'''\n",
    "def dense_2d(input_data,output_dim,keep_prob=0.9,name='dense_i',act=tf.nn.relu):\n",
    "    input_dim=int(input_data.shape[-1])\n",
    "    with tf.name_scope(name) as scope:\n",
    "        # 相当于通过这个方式定义了随机初始化的格式\n",
    "        # 可以理解为只有被定义为/被包裹为variable的tensor，\n",
    "        # 才能够被用来被梯度下降学习\n",
    "        W=tf.truncated_normal(shape=[input_dim,output_dim],\n",
    "                                        stddev=0.1)\n",
    "        W=tf.Variable(W,name=name+'_weights')\n",
    "        \n",
    "        b=tf.constant(value=0.1,shape=[output_dim])\n",
    "        b=tf.Variable(b,name=name+'_bias')\n",
    "        \n",
    "        dense=tf.matmul(input_data,W)+b\n",
    "        dense=act(dense)\n",
    "            \n",
    "        dense_dropped=tf.nn.dropout(dense,keep_prob=keep_prob)\n",
    "    \n",
    "    return dense_dropped"
   ]
  },
  {
   "cell_type": "code",
   "execution_count": 22,
   "metadata": {},
   "outputs": [],
   "source": [
    "'''\n",
    "之前出问题，因该是有一下原因：\n",
    "    1、maxpool的步长不对，应该是2的，我写成了1\n",
    "    2、最后全连接层名字不对，用了同一个名字，应该导致参数共享了。\n",
    "'''\n",
    "tf.reset_default_graph()\n",
    "'''\n",
    "定义输入\n",
    "'''\n",
    "x_input=tf.placeholder(shape=(None,784),dtype=tf.float32,name='x_input')\n",
    "y_input=tf.placeholder(shape=(None,10),dtype=tf.float32,name='y_input')\n",
    "keep_prob=tf.placeholder(dtype=tf.float32,name='keep_prob')\n",
    "\n",
    "x_input_reshaped=tf.reshape(x_input,shape=[-1,28,28,1])\n",
    "\n",
    "h_conv1=conv_2d(x_input_reshaped,\n",
    "                k_h=5,k_w=5,\n",
    "                s_h=1,s_w=1,\n",
    "                output_channel=32,\n",
    "                name='conv_1')\n",
    "h_pool1=max_pool_2d(h_conv1,\n",
    "                    p_h=2,p_w=2,\n",
    "                    s_h=2,s_w=2,\n",
    "                    padding='SAME',name='pool_1')\n",
    "\n",
    "h_conv2=conv_2d(h_pool1,\n",
    "                k_h=5,k_w=5,\n",
    "                s_h=1,s_w=1,\n",
    "                output_channel=64,name='conv_2')\n",
    "\n",
    "h_pool2=max_pool_2d(h_conv2,\n",
    "                    p_h=2,p_w=2,s_h=2,s_w=2,\n",
    "                    padding='SAME',name='pool_2')\n",
    "\n",
    "part_4_shape=h_pool2.get_shape()\n",
    "flatten_shape=part_4_shape[1]*part_4_shape[2]*part_4_shape[3]\n",
    "flattened=tf.reshape(h_pool2,(-1,flatten_shape))\n",
    "\n",
    "dense_1=dense_2d(flattened,output_dim=1024,\n",
    "                 keep_prob=keep_prob,name='dense_1')\n",
    "dense_2=dense_2d(dense_1,output_dim=10,\n",
    "                 act=tf.nn.softmax,\n",
    "                 keep_prob=1.0,name='dense_2')\n",
    "\n",
    "loss=-tf.reduce_sum(y_input*tf.log(dense_2))\n",
    "trainer=tf.train.AdamOptimizer(learning_rate=1e-3).minimize(loss)"
   ]
  },
  {
   "cell_type": "code",
   "execution_count": 23,
   "metadata": {},
   "outputs": [],
   "source": [
    "'''\n",
    "计算精度\n",
    "'''\n",
    "temp_acc=tf.equal(tf.argmax(dense_2,1),tf.argmax(y_input,1))\n",
    "accuracy=tf.reduce_mean(tf.cast(temp_acc,'float'))"
   ]
  },
  {
   "cell_type": "code",
   "execution_count": 24,
   "metadata": {},
   "outputs": [
    {
     "name": "stdout",
     "output_type": "stream",
     "text": [
      "0 0.06 (50, 14, 14, 32)\n",
      "1 0.98 (50, 14, 14, 32)\n",
      "2 0.94 (50, 14, 14, 32)\n"
     ]
    },
    {
     "ename": "KeyboardInterrupt",
     "evalue": "",
     "output_type": "error",
     "traceback": [
      "\u001b[1;31m---------------------------------------------------------------------------\u001b[0m",
      "\u001b[1;31mKeyboardInterrupt\u001b[0m                         Traceback (most recent call last)",
      "\u001b[1;32m<ipython-input-24-705917b9c0b1>\u001b[0m in \u001b[0;36m<module>\u001b[1;34m()\u001b[0m\n\u001b[0;32m     23\u001b[0m         sess.run([trainer],feed_dict={x_input:batch_x,\n\u001b[0;32m     24\u001b[0m                                     \u001b[0my_input\u001b[0m\u001b[1;33m:\u001b[0m\u001b[0mbatch_y\u001b[0m\u001b[1;33m,\u001b[0m\u001b[1;33m\u001b[0m\u001b[0m\n\u001b[1;32m---> 25\u001b[1;33m                                     keep_prob:0.5})\n\u001b[0m\u001b[0;32m     26\u001b[0m \u001b[1;33m\u001b[0m\u001b[0m\n\u001b[0;32m     27\u001b[0m     \u001b[0mbatch_test_x\u001b[0m\u001b[1;33m=\u001b[0m\u001b[0mmnist\u001b[0m\u001b[1;33m.\u001b[0m\u001b[0mtest\u001b[0m\u001b[1;33m.\u001b[0m\u001b[0mimages\u001b[0m\u001b[1;33m\u001b[0m\u001b[0m\n",
      "\u001b[1;32mE:\\Python\\PY3.6\\lib\\site-packages\\tensorflow\\python\\client\\session.py\u001b[0m in \u001b[0;36mrun\u001b[1;34m(self, fetches, feed_dict, options, run_metadata)\u001b[0m\n\u001b[0;32m    903\u001b[0m     \u001b[1;32mtry\u001b[0m\u001b[1;33m:\u001b[0m\u001b[1;33m\u001b[0m\u001b[0m\n\u001b[0;32m    904\u001b[0m       result = self._run(None, fetches, feed_dict, options_ptr,\n\u001b[1;32m--> 905\u001b[1;33m                          run_metadata_ptr)\n\u001b[0m\u001b[0;32m    906\u001b[0m       \u001b[1;32mif\u001b[0m \u001b[0mrun_metadata\u001b[0m\u001b[1;33m:\u001b[0m\u001b[1;33m\u001b[0m\u001b[0m\n\u001b[0;32m    907\u001b[0m         \u001b[0mproto_data\u001b[0m \u001b[1;33m=\u001b[0m \u001b[0mtf_session\u001b[0m\u001b[1;33m.\u001b[0m\u001b[0mTF_GetBuffer\u001b[0m\u001b[1;33m(\u001b[0m\u001b[0mrun_metadata_ptr\u001b[0m\u001b[1;33m)\u001b[0m\u001b[1;33m\u001b[0m\u001b[0m\n",
      "\u001b[1;32mE:\\Python\\PY3.6\\lib\\site-packages\\tensorflow\\python\\client\\session.py\u001b[0m in \u001b[0;36m_run\u001b[1;34m(self, handle, fetches, feed_dict, options, run_metadata)\u001b[0m\n\u001b[0;32m   1135\u001b[0m     \u001b[1;32mif\u001b[0m \u001b[0mfinal_fetches\u001b[0m \u001b[1;32mor\u001b[0m \u001b[0mfinal_targets\u001b[0m \u001b[1;32mor\u001b[0m \u001b[1;33m(\u001b[0m\u001b[0mhandle\u001b[0m \u001b[1;32mand\u001b[0m \u001b[0mfeed_dict_tensor\u001b[0m\u001b[1;33m)\u001b[0m\u001b[1;33m:\u001b[0m\u001b[1;33m\u001b[0m\u001b[0m\n\u001b[0;32m   1136\u001b[0m       results = self._do_run(handle, final_targets, final_fetches,\n\u001b[1;32m-> 1137\u001b[1;33m                              feed_dict_tensor, options, run_metadata)\n\u001b[0m\u001b[0;32m   1138\u001b[0m     \u001b[1;32melse\u001b[0m\u001b[1;33m:\u001b[0m\u001b[1;33m\u001b[0m\u001b[0m\n\u001b[0;32m   1139\u001b[0m       \u001b[0mresults\u001b[0m \u001b[1;33m=\u001b[0m \u001b[1;33m[\u001b[0m\u001b[1;33m]\u001b[0m\u001b[1;33m\u001b[0m\u001b[0m\n",
      "\u001b[1;32mE:\\Python\\PY3.6\\lib\\site-packages\\tensorflow\\python\\client\\session.py\u001b[0m in \u001b[0;36m_do_run\u001b[1;34m(self, handle, target_list, fetch_list, feed_dict, options, run_metadata)\u001b[0m\n\u001b[0;32m   1353\u001b[0m     \u001b[1;32mif\u001b[0m \u001b[0mhandle\u001b[0m \u001b[1;32mis\u001b[0m \u001b[1;32mNone\u001b[0m\u001b[1;33m:\u001b[0m\u001b[1;33m\u001b[0m\u001b[0m\n\u001b[0;32m   1354\u001b[0m       return self._do_call(_run_fn, self._session, feeds, fetches, targets,\n\u001b[1;32m-> 1355\u001b[1;33m                            options, run_metadata)\n\u001b[0m\u001b[0;32m   1356\u001b[0m     \u001b[1;32melse\u001b[0m\u001b[1;33m:\u001b[0m\u001b[1;33m\u001b[0m\u001b[0m\n\u001b[0;32m   1357\u001b[0m       \u001b[1;32mreturn\u001b[0m \u001b[0mself\u001b[0m\u001b[1;33m.\u001b[0m\u001b[0m_do_call\u001b[0m\u001b[1;33m(\u001b[0m\u001b[0m_prun_fn\u001b[0m\u001b[1;33m,\u001b[0m \u001b[0mself\u001b[0m\u001b[1;33m.\u001b[0m\u001b[0m_session\u001b[0m\u001b[1;33m,\u001b[0m \u001b[0mhandle\u001b[0m\u001b[1;33m,\u001b[0m \u001b[0mfeeds\u001b[0m\u001b[1;33m,\u001b[0m \u001b[0mfetches\u001b[0m\u001b[1;33m)\u001b[0m\u001b[1;33m\u001b[0m\u001b[0m\n",
      "\u001b[1;32mE:\\Python\\PY3.6\\lib\\site-packages\\tensorflow\\python\\client\\session.py\u001b[0m in \u001b[0;36m_do_call\u001b[1;34m(self, fn, *args)\u001b[0m\n\u001b[0;32m   1359\u001b[0m   \u001b[1;32mdef\u001b[0m \u001b[0m_do_call\u001b[0m\u001b[1;33m(\u001b[0m\u001b[0mself\u001b[0m\u001b[1;33m,\u001b[0m \u001b[0mfn\u001b[0m\u001b[1;33m,\u001b[0m \u001b[1;33m*\u001b[0m\u001b[0margs\u001b[0m\u001b[1;33m)\u001b[0m\u001b[1;33m:\u001b[0m\u001b[1;33m\u001b[0m\u001b[0m\n\u001b[0;32m   1360\u001b[0m     \u001b[1;32mtry\u001b[0m\u001b[1;33m:\u001b[0m\u001b[1;33m\u001b[0m\u001b[0m\n\u001b[1;32m-> 1361\u001b[1;33m       \u001b[1;32mreturn\u001b[0m \u001b[0mfn\u001b[0m\u001b[1;33m(\u001b[0m\u001b[1;33m*\u001b[0m\u001b[0margs\u001b[0m\u001b[1;33m)\u001b[0m\u001b[1;33m\u001b[0m\u001b[0m\n\u001b[0m\u001b[0;32m   1362\u001b[0m     \u001b[1;32mexcept\u001b[0m \u001b[0merrors\u001b[0m\u001b[1;33m.\u001b[0m\u001b[0mOpError\u001b[0m \u001b[1;32mas\u001b[0m \u001b[0me\u001b[0m\u001b[1;33m:\u001b[0m\u001b[1;33m\u001b[0m\u001b[0m\n\u001b[0;32m   1363\u001b[0m       \u001b[0mmessage\u001b[0m \u001b[1;33m=\u001b[0m \u001b[0mcompat\u001b[0m\u001b[1;33m.\u001b[0m\u001b[0mas_text\u001b[0m\u001b[1;33m(\u001b[0m\u001b[0me\u001b[0m\u001b[1;33m.\u001b[0m\u001b[0mmessage\u001b[0m\u001b[1;33m)\u001b[0m\u001b[1;33m\u001b[0m\u001b[0m\n",
      "\u001b[1;32mE:\\Python\\PY3.6\\lib\\site-packages\\tensorflow\\python\\client\\session.py\u001b[0m in \u001b[0;36m_run_fn\u001b[1;34m(session, feed_dict, fetch_list, target_list, options, run_metadata)\u001b[0m\n\u001b[0;32m   1338\u001b[0m         \u001b[1;32melse\u001b[0m\u001b[1;33m:\u001b[0m\u001b[1;33m\u001b[0m\u001b[0m\n\u001b[0;32m   1339\u001b[0m           return tf_session.TF_Run(session, options, feed_dict, fetch_list,\n\u001b[1;32m-> 1340\u001b[1;33m                                    target_list, status, run_metadata)\n\u001b[0m\u001b[0;32m   1341\u001b[0m \u001b[1;33m\u001b[0m\u001b[0m\n\u001b[0;32m   1342\u001b[0m     \u001b[1;32mdef\u001b[0m \u001b[0m_prun_fn\u001b[0m\u001b[1;33m(\u001b[0m\u001b[0msession\u001b[0m\u001b[1;33m,\u001b[0m \u001b[0mhandle\u001b[0m\u001b[1;33m,\u001b[0m \u001b[0mfeed_dict\u001b[0m\u001b[1;33m,\u001b[0m \u001b[0mfetch_list\u001b[0m\u001b[1;33m)\u001b[0m\u001b[1;33m:\u001b[0m\u001b[1;33m\u001b[0m\u001b[0m\n",
      "\u001b[1;31mKeyboardInterrupt\u001b[0m: "
     ]
    }
   ],
   "source": [
    "'''\n",
    "train\n",
    "'''\n",
    "feature_map_dir='./feature_maps/'\n",
    "init=tf.global_variables_initializer()\n",
    "with tf.Session() as sess:\n",
    "    sess.run(init)\n",
    "   \n",
    "    for i in range(20000):\n",
    "        batch_x,batch_y=mnist.train.next_batch(50)\n",
    "        \n",
    "        if i%100==0:\n",
    "            result,feature_map1=sess.run([accuracy,h_pool1],feed_dict={x_input:batch_x,\n",
    "                                                y_input:batch_y,\n",
    "                                                keep_prob:1.0})\n",
    "            \n",
    "            print(int(i/100),result,feature_map1.shape)\n",
    "#             print(feature_map1[0,:,:,0])\n",
    "            for j in range(32):\n",
    "                cv2.imwrite('./feature_maps/img_'+str(j)+'.jpg',\n",
    "                            feature_map1[24,:,:,j]*255)\n",
    "\n",
    "        sess.run([trainer],feed_dict={x_input:batch_x,\n",
    "                                    y_input:batch_y,\n",
    "                                    keep_prob:0.5})\n",
    "\n",
    "    batch_test_x=mnist.test.images\n",
    "    batch_test_y=mnist.test.labels\n",
    "    all_test=sess.run(accuracy,feed_dict={x_input:batch_test_x,\n",
    "                                          y_input:batch_test_y,\n",
    "                                          keep_prob:1.0})\n",
    "    print(all_test)"
   ]
  },
  {
   "cell_type": "code",
   "execution_count": 17,
   "metadata": {},
   "outputs": [],
   "source": [
    "cv2.imwrite??"
   ]
  },
  {
   "cell_type": "code",
   "execution_count": null,
   "metadata": {},
   "outputs": [],
   "source": []
  }
 ],
 "metadata": {
  "kernelspec": {
   "display_name": "Python 3",
   "language": "python",
   "name": "python3"
  },
  "language_info": {
   "codemirror_mode": {
    "name": "ipython",
    "version": 3
   },
   "file_extension": ".py",
   "mimetype": "text/x-python",
   "name": "python",
   "nbconvert_exporter": "python",
   "pygments_lexer": "ipython3",
   "version": "3.6.4"
  },
  "toc": {
   "base_numbering": 1,
   "nav_menu": {},
   "number_sections": true,
   "sideBar": true,
   "skip_h1_title": false,
   "title_cell": "Table of Contents",
   "title_sidebar": "Contents",
   "toc_cell": false,
   "toc_position": {},
   "toc_section_display": true,
   "toc_window_display": false
  }
 },
 "nbformat": 4,
 "nbformat_minor": 2
}
