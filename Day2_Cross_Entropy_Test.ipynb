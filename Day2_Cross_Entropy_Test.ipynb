{
 "cells": [
  {
   "cell_type": "code",
   "execution_count": 26,
   "metadata": {},
   "outputs": [],
   "source": [
    "import tensorflow as tf\n",
    "import numpy as np\n",
    "import math"
   ]
  },
  {
   "cell_type": "code",
   "execution_count": 22,
   "metadata": {},
   "outputs": [],
   "source": [
    "label=np.asarray([[0.,0. ,0.,0., 0., 0. ,0., 1., 0. ,0.],\n",
    "                  [0.,0.,1.,0.,0.,0.,0.,0.,0.,0.]])\n",
    "logitis=np.asarray([[-4.8788553e+02 ,-1.4091377e+03 ,-5.2255757e+03,1.4094987e+03, -1.7378435e+03 , \n",
    "                     1.8822108e+03 ,4.9372581e+01 , 4.1209521e+03, -1.7415996e+03 ,1.1880408e+03],\n",
    "                    \n",
    "                   [-1.0350179e+03,-1.2889645e+03,-5.3551914e+03,2.1222205e+03,-1.7806185e+03 , \n",
    "                    2.0163844e+03 , 1.0864736e+02 , 4.2028843e+03,-2.1118005e+03 , 1.7040602e+03]])"
   ]
  },
  {
   "cell_type": "code",
   "execution_count": 23,
   "metadata": {},
   "outputs": [],
   "source": [
    "loss=tf.nn.softmax_cross_entropy_with_logits_v2(labels=label,logits=logitis)\n"
   ]
  },
  {
   "cell_type": "code",
   "execution_count": 53,
   "metadata": {},
   "outputs": [],
   "source": [
    "tf_max=tf.reduce_max(logitis,axis=1)\n",
    "tf_max=tf.reshape(tf_max,(2,1))\n",
    "tf_max=tf.matmul(tf_max,tf.constant(value=1,shape=[1,10],dtype=tf.float64))\n",
    "\n",
    "logitis=logitis-tf_max\n",
    "\n",
    "logitis2=tf.reduce_logsumexp(logitis)\n",
    "\n",
    "softmax_value=tf.nn.softmax(logitis)\n",
    "clip_coftmax=tf.clip_by_value(softmax_value,1e-32,1.0)\n",
    "loss2=-tf.reduce_sum(label*tf.log(tf.clip_by_value(tf.nn.softmax(logitis),1e-32,1.0)))"
   ]
  },
  {
   "cell_type": "code",
   "execution_count": 55,
   "metadata": {},
   "outputs": [
    {
     "name": "stdout",
     "output_type": "stream",
     "text": [
      "0.6931471805599453\n",
      "[[-4608.83763  -5530.0898   -9346.5278   -2711.4534   -5858.7956\n",
      "  -2238.7413   -4071.579519     0.       -5862.5517   -2932.9113  ]\n",
      " [-5237.9022   -5491.8488   -9558.0757   -2080.6638   -5983.5028\n",
      "  -2186.4999   -4094.23694      0.       -6314.6848   -2498.8241  ]]\n",
      "[[0. 0. 0. 0. 0. 0. 0. 0. 0. 0.]\n",
      " [0. 0. 0. 0. 0. 0. 0. 0. 0. 0.]]\n",
      "[[0. 0. 0. 0. 0. 0. 0. 1. 0. 0.]\n",
      " [0. 0. 0. 0. 0. 0. 0. 1. 0. 0.]]\n",
      "[[1.e-32 1.e-32 1.e-32 1.e-32 1.e-32 1.e-32 1.e-32 1.e+00 1.e-32 1.e-32]\n",
      " [1.e-32 1.e-32 1.e-32 1.e-32 1.e-32 1.e-32 1.e-32 1.e+00 1.e-32 1.e-32]]\n",
      "[   0.     9558.0757] 73.68272297580947\n"
     ]
    }
   ],
   "source": [
    "with tf.Session() as sess:\n",
    "    print(sess.run(logitis2))\n",
    "    print(sess.run(logitis))\n",
    "    print(sess.run(tf_max))\n",
    "    print(sess.run(softmax_value))\n",
    "    print(sess.run(clip_coftmax))\n",
    "    result,result2=sess.run([loss,loss2])\n",
    "    print(result,result2)"
   ]
  },
  {
   "cell_type": "code",
   "execution_count": 52,
   "metadata": {},
   "outputs": [],
   "source": []
  },
  {
   "cell_type": "code",
   "execution_count": 32,
   "metadata": {},
   "outputs": [
    {
     "data": {
      "text/plain": [
       "0.0"
      ]
     },
     "execution_count": 32,
     "metadata": {},
     "output_type": "execute_result"
    }
   ],
   "source": []
  },
  {
   "cell_type": "code",
   "execution_count": null,
   "metadata": {},
   "outputs": [],
   "source": []
  }
 ],
 "metadata": {
  "kernelspec": {
   "display_name": "Python 3",
   "language": "python",
   "name": "python3"
  },
  "language_info": {
   "codemirror_mode": {
    "name": "ipython",
    "version": 3
   },
   "file_extension": ".py",
   "mimetype": "text/x-python",
   "name": "python",
   "nbconvert_exporter": "python",
   "pygments_lexer": "ipython3",
   "version": "3.6.4"
  }
 },
 "nbformat": 4,
 "nbformat_minor": 2
}
