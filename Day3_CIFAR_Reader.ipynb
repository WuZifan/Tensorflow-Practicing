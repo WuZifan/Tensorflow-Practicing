{
 "cells": [
  {
   "cell_type": "code",
   "execution_count": 60,
   "metadata": {},
   "outputs": [],
   "source": [
    "import cv2\n",
    "import numpy as np\n",
    "import random"
   ]
  },
  {
   "cell_type": "code",
   "execution_count": 27,
   "metadata": {},
   "outputs": [],
   "source": [
    "'''\n",
    "加载原始数据\n",
    "'''\n",
    "load_dir='./cifar-10-batches-py/'\n",
    "def unpickle(file):\n",
    "    import pickle as pk\n",
    "    fo = open(file,'rb')\n",
    "    '''\n",
    "    cifar数据已dict存储，里面包含4个key，分别是：\n",
    "        batch_label：这个batch的名字\n",
    "        labels:list方式存储的label\n",
    "        data:list方式存储的data(32*32*3的尺寸)\n",
    "        filenames:list方式存储的filenames\n",
    "    '''\n",
    "    res_dict=pk.load(fo,encoding='latin1')\n",
    "    fo.close\n",
    "    return res_dict"
   ]
  },
  {
   "cell_type": "code",
   "execution_count": 63,
   "metadata": {},
   "outputs": [],
   "source": [
    "'''\n",
    "目标：\n",
    "    \n",
    "    鉴于内存能够吃的下所有图片，\n",
    "    那么就直接load所有图片进内存了。\n",
    "\n",
    "    数据里面的内容已经被shuffle过了，因此不用在自己shuffle\n",
    "    \n",
    "    当然，如果要自己shuffle的话，shuffle index就行了，之后根据index来取。\n",
    "\n",
    "'''\n",
    "def get_train_test_data():\n",
    "    train_data=[]\n",
    "    train_label=[]\n",
    "    for i in range(5):\n",
    "        temp_res=unpickle(load_dir+'data_batch_'+str(i+1))\n",
    "        train_data.append(temp_res['data'])\n",
    "        train_label.append(temp_res['labels'])\n",
    "    train_data=np.concatenate(train_data,axis=0)\n",
    "    train_label=np.concatenate(train_label,axis=0)\n",
    "    \n",
    "    test_res=unpickle(load_dir+'test_batch')\n",
    "    test_data=test_res['data']\n",
    "    test_label=test_res['labels']\n",
    "    return train_data,train_label,test_data,test_label\n",
    "\n",
    "train_x,train_y,test_x,test_y=get_train_test_data()"
   ]
  },
  {
   "cell_type": "code",
   "execution_count": 88,
   "metadata": {},
   "outputs": [],
   "source": [
    "'''\n",
    "目标：\n",
    "    拿到next_batch\n",
    "    尽量train_x的长度能够被batch_size被整除\n",
    "    \n",
    "'''\n",
    "\n",
    "def next_batch(batch_size,train_x,train_y):\n",
    "    train_num=len(train_x)\n",
    "    num_batches=int(train_num/batch_size)\n",
    "    i=0\n",
    "    while True:\n",
    "        i=i%num_batches\n",
    "        print(num_batches,i)\n",
    "        batch_x=train_x[i*batch_size:(i+1)*batch_size]\n",
    "        batch_y=train_y[i*batch_size:(i+1)*batch_size]\n",
    "        i+=1\n",
    "        yield batch_x,batch_y\n"
   ]
  },
  {
   "cell_type": "code",
   "execution_count": null,
   "metadata": {},
   "outputs": [],
   "source": []
  }
 ],
 "metadata": {
  "kernelspec": {
   "display_name": "Python 3",
   "language": "python",
   "name": "python3"
  },
  "language_info": {
   "codemirror_mode": {
    "name": "ipython",
    "version": 3
   },
   "file_extension": ".py",
   "mimetype": "text/x-python",
   "name": "python",
   "nbconvert_exporter": "python",
   "pygments_lexer": "ipython3",
   "version": "3.6.4"
  },
  "toc": {
   "base_numbering": 1,
   "nav_menu": {},
   "number_sections": true,
   "sideBar": true,
   "skip_h1_title": false,
   "title_cell": "Table of Contents",
   "title_sidebar": "Contents",
   "toc_cell": false,
   "toc_position": {},
   "toc_section_display": true,
   "toc_window_display": false
  }
 },
 "nbformat": 4,
 "nbformat_minor": 2
}
