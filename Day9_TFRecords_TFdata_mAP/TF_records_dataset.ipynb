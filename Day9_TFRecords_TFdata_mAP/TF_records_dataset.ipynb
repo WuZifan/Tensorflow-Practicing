{
 "cells": [
  {
   "cell_type": "markdown",
   "metadata": {},
   "source": [
    "# 目标：\n",
    "\n",
    "    1、将mnist数据转换成tf_records形式的文件。"
   ]
  },
  {
   "cell_type": "code",
   "execution_count": 22,
   "metadata": {},
   "outputs": [],
   "source": [
    "import tensorflow as tf\n",
    "from tensorflow.examples.tutorials.mnist import input_data\n",
    "import matplotlib.pyplot as plt\n",
    "import numpy as np\n",
    "from PIL import Image"
   ]
  },
  {
   "cell_type": "code",
   "execution_count": 6,
   "metadata": {},
   "outputs": [
    {
     "name": "stdout",
     "output_type": "stream",
     "text": [
      "Extracting ./mnist/train-images-idx3-ubyte.gz\n",
      "Extracting ./mnist/train-labels-idx1-ubyte.gz\n",
      "Extracting ./mnist/t10k-images-idx3-ubyte.gz\n",
      "Extracting ./mnist/t10k-labels-idx1-ubyte.gz\n"
     ]
    }
   ],
   "source": [
    "MNIST = input_data.read_data_sets('./mnist/')"
   ]
  },
  {
   "cell_type": "code",
   "execution_count": 20,
   "metadata": {},
   "outputs": [
    {
     "data": {
      "text/plain": [
       "((55000, 28, 28), (55000,))"
      ]
     },
     "execution_count": 20,
     "metadata": {},
     "output_type": "execute_result"
    }
   ],
   "source": [
    "'''\n",
    "获取训练用数据\n",
    "'''\n",
    "all_img = np.reshape(MNIST.train.images,(-1,28,28))\n",
    "all_label = MNIST.train.labels\n",
    "all_img.shape,all_label.shape"
   ]
  },
  {
   "cell_type": "code",
   "execution_count": 58,
   "metadata": {},
   "outputs": [
    {
     "data": {
      "text/plain": [
       "((5000, 28, 28), (5000,))"
      ]
     },
     "execution_count": 58,
     "metadata": {},
     "output_type": "execute_result"
    }
   ],
   "source": [
    "'''\n",
    "获取测试用数据\n",
    "'''\n",
    "all_val_img = np.reshape(MNIST.validation.images,(-1,28,28))\n",
    "all_val_label = MNIST.validation.labels\n",
    "all_val_img.shape,all_val_label.shape"
   ]
  },
  {
   "cell_type": "code",
   "execution_count": 86,
   "metadata": {},
   "outputs": [
    {
     "data": {
      "text/plain": [
       "(array([7, 3, 4, 6, 1, 8, 1, 0, 9, 8], dtype=uint8),\n",
       " array([5, 0, 4, 1, 9, 2, 1, 3, 1, 4], dtype=uint8))"
      ]
     },
     "execution_count": 86,
     "metadata": {},
     "output_type": "execute_result"
    }
   ],
   "source": [
    "all_label[:10],all_val_label[:10]"
   ]
  },
  {
   "cell_type": "code",
   "execution_count": 87,
   "metadata": {},
   "outputs": [],
   "source": [
    "# 将其保存成tfrecords类型的文件\n",
    "def to_tfrecords(local_images,local_labels,record_name):\n",
    "    writer = tf.python_io.TFRecordWriter(record_name)\n",
    "    for temp_img,temp_label in zip(local_images,local_labels):\n",
    "\n",
    "        temp_img = Image.fromarray(temp_img)\n",
    "        img_raw = temp_img.tobytes()\n",
    "\n",
    "        example = tf.train.Example(features=tf.train.Features(feature={\n",
    "            'label':tf.train.Feature(int64_list = tf.train.Int64List(value=[temp_label])),\n",
    "            'img_raw':tf.train.Feature(bytes_list=tf.train.BytesList(value=[img_raw]))\n",
    "        }))\n",
    "        writer.write(example.SerializeToString())\n",
    "\n",
    "    writer.close()"
   ]
  },
  {
   "cell_type": "code",
   "execution_count": 88,
   "metadata": {},
   "outputs": [],
   "source": [
    "# 得到训练数据的tf_records\n",
    "# to_tfrecords(all_img,all_label,'mnist.tfrecords')\n",
    "\n",
    "# 得到测试数据的tf_records\n",
    "to_tfrecords(all_val_img,all_val_label,'mnist_val.tfrecords')"
   ]
  },
  {
   "cell_type": "code",
   "execution_count": 89,
   "metadata": {},
   "outputs": [],
   "source": [
    "'''\n",
    "基本的读取TF_RECORDS数据的方式\n",
    "'''\n",
    "def read_and_parse(filename):\n",
    "    filename_queue = tf.train.string_input_producer([filename])\n",
    "    \n",
    "    reader = tf.TFRecordReader()\n",
    "    _,serialized_example = reader.read(filename_queue)\n",
    "    \n",
    "    # 相比于下面\n",
    "    # 另一种我觉得比较清楚的写法\n",
    "    features_dict = {\n",
    "        'label':tf.FixedLenFeature([],tf.int64),\n",
    "        'img_raw':tf.FixedLenFeature([],tf.string)\n",
    "    }\n",
    "    features_res = tf.parse_single_example(serialized_example,features=features_dict)\n",
    "    \n",
    "    # 这里算是把书籍写到了这个feature里面\n",
    "    # 这个feature可以认为是一个dict\n",
    "#     features_res = tf.parse_single_example(serialized_example,features={\n",
    "#         'label':tf.FixedLenFeature([],tf.int64),\n",
    "#         'img_raw':tf.FixedLenFeature([],tf.string),\n",
    "#     })\n",
    "    \n",
    "    # 这里应该怎么解码，看原来的数据是怎样的。\n",
    "    # 原来数据是float32，那么这里也要相应的解码\n",
    "    img = tf.decode_raw(features_res['img_raw'],tf.int32)\n",
    "    img = tf.reshape(img,[28,28])\n",
    "    label = tf.cast(features_res['label'],tf.int32)\n",
    "    \n",
    "    return img,label\n",
    "    "
   ]
  },
  {
   "cell_type": "code",
   "execution_count": 90,
   "metadata": {},
   "outputs": [
    {
     "data": {
      "image/png": "[encoded data removed]",
      "text/plain": [
       "<matplotlib.figure.Figure at 0x1db16a20>"
      ]
     },
     "metadata": {
      "needs_background": "light"
     },
     "output_type": "display_data"
    },
    {
     "name": "stdout",
     "output_type": "stream",
     "text": [
      "(28, 28) 5\n"
     ]
    },
    {
     "data": {
      "image/png": "[encoded data removed]",
      "text/plain": [
       "<matplotlib.figure.Figure at 0x1db73358>"
      ]
     },
     "metadata": {
      "needs_background": "light"
     },
     "output_type": "display_data"
    },
    {
     "name": "stdout",
     "output_type": "stream",
     "text": [
      "(28, 28) 0\n"
     ]
    }
   ],
   "source": [
    "'''\n",
    " 测试\n",
    "'''\n",
    "tf.reset_default_graph()\n",
    "img,label = read_and_parse('mnist_val.tfrecords')\n",
    "with tf.Session() as sess:\n",
    "    sess.run(tf.global_variables_initializer())\n",
    "    \n",
    "    # 暂时理解为控制多个线程同时结束的方法\n",
    "    coord = tf.train.Coordinator()\n",
    "    threads = tf.train.start_queue_runners(coord=coord)\n",
    "    \n",
    "    for i in range(2):\n",
    "        example,l = sess.run([img,label])\n",
    "        plt.imshow(example)\n",
    "        plt.show()\n",
    "        print(example.shape,l)\n",
    "    coord.request_stop()\n",
    "    coord.join(threads)"
   ]
  },
  {
   "cell_type": "markdown",
   "metadata": {},
   "source": [
    "# tf.dataset使用\n",
    "\n",
    "从核心功能上来看，dataset就像是一个包装器：\n",
    "\n",
    "    1、它不定义解读数据的方法，需要我们自己定义。\n",
    "    2、他不提供数据后续操作的方法，需要我们自己定义。\n",
    "    3、它仅提供把数据操作方法，应用到对应数据上的这个操作，并且负责拿到返回值。\n",
    " \n",
    "从操作的数据对象上看，可以有这么几种：\n",
    "\n",
    "    1、tf.data.TFRecordDataSet;专门用来操作TFRecord对象的。\n",
    "    2、tf.data.TextLineDataset;专门用来操作csv或者txt对象的。\n",
    "    。。。。\n",
    "\n",
    "在得到了不同的DataSet后，他们都是通过获取迭代器iterator来获取数据的，这里又有不同的迭代器：\n",
    "\n",
    "    1、make_one_shot_iterator()；和数据绑死，不能重新选择数据源。\n",
    "    2、make_initializable_iterator();和数据解绑，可以重新选择数据源：\n",
    "        2.1 需要注意，不同的数据源之间，格式要统一，因为用的解码方法还是同一个。"
   ]
  },
  {
   "cell_type": "code",
   "execution_count": 91,
   "metadata": {},
   "outputs": [],
   "source": [
    "'''\n",
    "试着使用tf.dataset的方法来进行操作：\n",
    "    1、解析TFRECORD文件\n",
    "    2、做一些简单的后处理\n",
    "'''\n",
    "def parser(record):\n",
    "    '''\n",
    "        这个函数是定义，对于tfrecords中的一个records而言，\n",
    "        该怎么操作\n",
    "    '''\n",
    "    features = {\n",
    "        'label':tf.FixedLenFeature([],tf.int64),\n",
    "        'img_raw':tf.FixedLenFeature([],tf.string)\n",
    "    }\n",
    "    \n",
    "    parsed = tf.parse_single_example(record,features)\n",
    "    \n",
    "    image = tf.decode_raw(parsed['img_raw'],tf.int32)\n",
    "    image = tf.reshape(image,[28,28])\n",
    "    label = tf.cast(parsed['label'],tf.int32)\n",
    "    return image,label"
   ]
  },
  {
   "cell_type": "code",
   "execution_count": 92,
   "metadata": {},
   "outputs": [
    {
     "data": {
      "image/png": "[encoded data removed]",
      "text/plain": [
       "<matplotlib.figure.Figure at 0x1db1b198>"
      ]
     },
     "metadata": {
      "needs_background": "light"
     },
     "output_type": "display_data"
    }
   ],
   "source": [
    "'''\n",
    "简单的 make_one_shot_iterator的使用：\n",
    "    1、写死tfrecord位置，作为初始化参数，拿到DataSet对象。\n",
    "    2、利用map方法，传入对每一行数据操作的方法。\n",
    "    3、利用dataset对象拿到iterator对象。\n",
    "    4、利用iterator的get_next方法，获取数据\n",
    "'''\n",
    "tf.reset_default_graph()\n",
    "\n",
    "filename=['./mnist_val.tfrecords']\n",
    "dataset = tf.data.TFRecordDataset(filename)\n",
    "dataset  =dataset.map(parser)\n",
    "\n",
    "iterator = dataset.make_one_shot_iterator()\n",
    "image,label = iterator.get_next()\n",
    "\n",
    "with tf.Session() as sess:\n",
    "    sess.run(tf.global_variables_initializer())\n",
    "    \n",
    "    se_image  =sess.run(image)\n",
    "    plt.imshow(se_image)\n",
    "    plt.show()"
   ]
  },
  {
   "cell_type": "code",
   "execution_count": 95,
   "metadata": {},
   "outputs": [
    {
     "name": "stdout",
     "output_type": "stream",
     "text": [
      "(32, 28, 28)\n"
     ]
    },
    {
     "data": {
      "image/png": "[encoded data removed]",
      "text/plain": [
       "<matplotlib.figure.Figure at 0x1dbf9390>"
      ]
     },
     "metadata": {
      "needs_background": "light"
     },
     "output_type": "display_data"
    },
    {
     "data": {
      "image/png": "[encoded data removed]",
      "text/plain": [
       "<matplotlib.figure.Figure at 0x1de282e8>"
      ]
     },
     "metadata": {
      "needs_background": "light"
     },
     "output_type": "display_data"
    },
    {
     "name": "stdout",
     "output_type": "stream",
     "text": [
      "(32, 28, 28)\n"
     ]
    },
    {
     "data": {
      "image/png": "[encoded data removed]",
      "text/plain": [
       "<matplotlib.figure.Figure at 0x1dddc6d8>"
      ]
     },
     "metadata": {
      "needs_background": "light"
     },
     "output_type": "display_data"
    }
   ],
   "source": [
    "'''\n",
    "make_initializable_iteration()方法：\n",
    "    1、定义placehodler，作为后续tfrecords位置的传入点。\n",
    "    2、将placeholder作为初始化参数，得到dataset对象。\n",
    "    3、定义一些batch，epoch，shuffle的信息。\n",
    "    4、设定迭代器类型：make_initializable_iterator\n",
    "    5、用get_next获取数据:image,label\n",
    "    6、sess中，初始化变量。\n",
    "    7、显示初始化：sess.run(iterator_init.initializer,feed_dict={file_names:training_filenames})\n",
    "    8、获取真实数据：sess.run(images)\n",
    "'''\n",
    "\n",
    "tf.reset_default_graph()\n",
    "\n",
    "file_names = tf.placeholder(dtype=tf.string,shape=[None])\n",
    "\n",
    "dataset = tf.data.TFRecordDataset(file_names) # 注意这里传入的是placeholder\n",
    "dataset = dataset.map(parser) # 别忘了map这个处理函数\n",
    "dataset = dataset.batch(32) # 在这里可以设定batch_size\n",
    "\n",
    "iterator_init = dataset.make_initializable_iterator()\n",
    "images,label = iterator_init.get_next()\n",
    "\n",
    "with tf.Session() as sess:\n",
    "    sess.run(tf.global_variables_initializer())\n",
    "    \n",
    "    # 获得训练数据\n",
    "    training_filenames = ['./mnist.tfrecords']\n",
    "    sess.run(iterator_init.initializer,feed_dict={file_names:training_filenames})\n",
    "    train_image = sess.run(images)\n",
    "    train_image2 = sess.run(images)\n",
    "    print(train_image.shape)\n",
    "    plt.imshow(train_image[0,:,:])\n",
    "    plt.show()\n",
    "    \n",
    "    plt.imshow(train_image2[0,:,:])\n",
    "    plt.show()\n",
    "    \n",
    "    # 获得测试数据\n",
    "    validation_filenames=['./mnist_val.tfrecords']\n",
    "    sess.run(iterator_init.initializer,feed_dict={file_names:validation_filenames})\n",
    "    valid_image = sess.run(images)\n",
    "    print(valid_image.shape)\n",
    "    plt.imshow(valid_image[0,:,:])\n",
    "    plt.show()"
   ]
  },
  {
   "cell_type": "code",
   "execution_count": null,
   "metadata": {},
   "outputs": [],
   "source": []
  }
 ],
 "metadata": {
  "kernelspec": {
   "display_name": "Python 3",
   "language": "python",
   "name": "python3"
  },
  "language_info": {
   "codemirror_mode": {
    "name": "ipython",
    "version": 3
   },
   "file_extension": ".py",
   "mimetype": "text/x-python",
   "name": "python",
   "nbconvert_exporter": "python",
   "pygments_lexer": "ipython3",
   "version": "3.6.4"
  },
  "toc": {
   "base_numbering": 1,
   "nav_menu": {},
   "number_sections": true,
   "sideBar": true,
   "skip_h1_title": false,
   "title_cell": "Table of Contents",
   "title_sidebar": "Contents",
   "toc_cell": false,
   "toc_position": {},
   "toc_section_display": true,
   "toc_window_display": false
  }
 },
 "nbformat": 4,
 "nbformat_minor": 2
}
