{
 "cells": [
  {
   "cell_type": "code",
   "execution_count": 67,
   "metadata": {},
   "outputs": [],
   "source": [
    "import argparse\n",
    "import sys\n",
    "\n",
    "import tensorflow as tf\n",
    "\n",
    "from tensorflow.examples.tutorials.mnist import input_data\n",
    "\n",
    "max_step=1000\n",
    "learning_rate=0.001\n",
    "dropout = 0.9\n",
    "\n",
    "data_dir='./MNIST_data/'\n",
    "log_dir='./logs/example2'"
   ]
  },
  {
   "cell_type": "code",
   "execution_count": 68,
   "metadata": {},
   "outputs": [
    {
     "name": "stdout",
     "output_type": "stream",
     "text": [
      "Extracting ./MNIST_data/train-images-idx3-ubyte.gz\n",
      "Extracting ./MNIST_data/train-labels-idx1-ubyte.gz\n",
      "Extracting ./MNIST_data/t10k-images-idx3-ubyte.gz\n",
      "Extracting ./MNIST_data/t10k-labels-idx1-ubyte.gz\n"
     ]
    }
   ],
   "source": [
    "mnist = input_data.read_data_sets(data_dir,one_hot=True)"
   ]
  },
  {
   "cell_type": "code",
   "execution_count": 86,
   "metadata": {},
   "outputs": [],
   "source": [
    "tf.reset_default_graph()\n",
    "sess=tf.InteractiveSession()"
   ]
  },
  {
   "cell_type": "code",
   "execution_count": 87,
   "metadata": {},
   "outputs": [],
   "source": [
    "with tf.name_scope('input'):\n",
    "    x_input=tf.placeholder(shape=(None,784),dtype=tf.float32,name='x_input')\n",
    "    y_input=tf.placeholder(shape=(None,10),dtype=tf.float32,name='y_input')\n",
    "\n",
    "with tf.name_scope('input_reshape'):\n",
    "    image_shaped_input=tf.reshape(x_input,shape=(-1,28,28,1))\n",
    "    '''\n",
    "    告诉tf，类型是image，名字叫input，数据从image_shaped_input拿，最多显示10个\n",
    "    '''\n",
    "    tf.summary.image('input',image_shaped_input,10)"
   ]
  },
  {
   "cell_type": "code",
   "execution_count": 88,
   "metadata": {},
   "outputs": [],
   "source": [
    "# 初始化参数\n",
    "def weight_variable(shape):\n",
    "    initial = tf.truncated_normal(shape,stddev=0.1)\n",
    "    return tf.Variable(initial)\n",
    "\n",
    "def bias_variable(shape):\n",
    "    initial = tf.constant(0.1,shape=shape)\n",
    "    return tf.Variable(initial)"
   ]
  },
  {
   "cell_type": "code",
   "execution_count": 89,
   "metadata": {},
   "outputs": [],
   "source": [
    "def variable_summaries(var):\n",
    "    print(var.name,var.shape)\n",
    "    with tf.name_scope('summaries'):\n",
    "        # 统计参数的均值？ 那么W这样的矩阵，B这样的向量怎么办…\n",
    "        mean=tf.reduce_mean(var)\n",
    "        tf.summary.scalar('mean',mean)\n",
    "        \n",
    "        # 计算参数标准差\n",
    "        with tf.name_scope('stddev'):\n",
    "            stddev = tf.sqrt(tf.reduce_mean(tf.square(var-mean)))\n",
    "        \n",
    "        # 记录标准差，最大值，最小值\n",
    "        tf.summary.scalar('stddev',stddev)\n",
    "        tf.summary.scalar('max',tf.reduce_max(var))\n",
    "        tf.summary.scalar('min',tf.reduce_min(var))\n",
    "        \n",
    "        # 用直方图记录\n",
    "        tf.summary.histogram('histogram',var)\n",
    "    "
   ]
  },
  {
   "cell_type": "code",
   "execution_count": 90,
   "metadata": {},
   "outputs": [],
   "source": [
    "def nn_layer(input_tensor, input_dim, output_dim, layer_name, act=tf.nn.relu):\n",
    "    with tf.name_scope(layer_name):\n",
    "        with tf.name_scope('weights'):\n",
    "            weights = weight_variable([input_dim,output_dim])\n",
    "            variable_summaries(weights)\n",
    "        with tf.name_scope('biaes'):\n",
    "            biases = bias_variable([output_dim])\n",
    "            variable_summaries(biases)\n",
    "        # 没有cnn，就一个dense\n",
    "        with tf.name_scope('linear_compute'):\n",
    "            pre_activate=tf.matmul(input_tensor,weights)+biases\n",
    "            tf.summary.histogram('linear',pre_activate)\n",
    "        \n",
    "        activations = act(pre_activate,name='activation')\n",
    "        tf.summary.histogram('activations',activations)\n",
    "        return activations"
   ]
  },
  {
   "cell_type": "code",
   "execution_count": 91,
   "metadata": {},
   "outputs": [
    {
     "name": "stdout",
     "output_type": "stream",
     "text": [
      "layer1/weights/Variable:0 (784, 500)\n",
      "layer1/biaes/Variable:0 (500,)\n"
     ]
    }
   ],
   "source": [
    "hidden1 = nn_layer(x_input,784,500,'layer1')"
   ]
  },
  {
   "cell_type": "code",
   "execution_count": 92,
   "metadata": {},
   "outputs": [],
   "source": [
    "with tf.name_scope('dropout'):\n",
    "    keep_prob=tf.placeholder(dtype=tf.float32)\n",
    "    tf.summary.scalar('dropout_keep_probability',keep_prob)\n",
    "    dropped = tf.nn.dropout(hidden1,keep_prob)"
   ]
  },
  {
   "cell_type": "code",
   "execution_count": 93,
   "metadata": {},
   "outputs": [
    {
     "name": "stdout",
     "output_type": "stream",
     "text": [
      "layer2/weights/Variable:0 (500, 10)\n",
      "layer2/biaes/Variable:0 (10,)\n"
     ]
    }
   ],
   "source": [
    "y=nn_layer(dropped,500,10,'layer2',act=tf.identity)"
   ]
  },
  {
   "cell_type": "code",
   "execution_count": 94,
   "metadata": {},
   "outputs": [
    {
     "data": {
      "text/plain": [
       "<tf.Tensor 'loss_1:0' shape=() dtype=string>"
      ]
     },
     "execution_count": 94,
     "metadata": {},
     "output_type": "execute_result"
    }
   ],
   "source": [
    "# loss\n",
    "with tf.name_scope('loss'):\n",
    "    diff = tf.nn.softmax_cross_entropy_with_logits_v2(labels=y_input,logits=y)\n",
    "    with tf.name_scope('total'):\n",
    "        cross_entropy=tf.reduce_mean(diff)\n",
    "tf.summary.scalar('loss',cross_entropy)"
   ]
  },
  {
   "cell_type": "code",
   "execution_count": 95,
   "metadata": {},
   "outputs": [],
   "source": [
    "# 优化器\n",
    "with tf.name_scope('train'):\n",
    "    train_step = tf.train.AdamOptimizer(learning_rate).minimize(cross_entropy)"
   ]
  },
  {
   "cell_type": "code",
   "execution_count": 96,
   "metadata": {},
   "outputs": [
    {
     "data": {
      "text/plain": [
       "<tf.Tensor 'accuracy_1:0' shape=() dtype=string>"
      ]
     },
     "execution_count": 96,
     "metadata": {},
     "output_type": "execute_result"
    }
   ],
   "source": [
    "# 计算准确率\n",
    "with tf.name_scope('accuracy'):\n",
    "    with tf.name_scope('correct_prediction'):\n",
    "        correct_prediction = tf.equal(tf.argmax(y,1),tf.argmax(y_input,1))\n",
    "    with tf.name_scope('accuracy2'):\n",
    "        accuracy = tf.reduce_mean(tf.cast(correct_prediction,tf.float32))\n",
    "\n",
    "tf.summary.scalar('accuracy',accuracy)"
   ]
  },
  {
   "cell_type": "code",
   "execution_count": 104,
   "metadata": {},
   "outputs": [],
   "source": [
    "# 合并summary\n",
    "merged = tf.summary.merge_all()\n",
    "\n",
    "# 写到磁盘\n",
    "train_writer = tf.summary.FileWriter(log_dir+'/train',sess.graph)\n",
    "test_writer = tf.summary.FileWriter(log_dir+'/test')\n",
    "\n",
    "# 初始化变量\n",
    "tf.global_variables_initializer().run()"
   ]
  },
  {
   "cell_type": "code",
   "execution_count": 105,
   "metadata": {},
   "outputs": [],
   "source": [
    "def feed_dict(train):\n",
    "    if train:\n",
    "        xs,ys=mnist.train.next_batch(100)\n",
    "        k=0.9\n",
    "    else:\n",
    "        xs,ys=mnist.test.images,mnist.test.labels\n",
    "        k=1.0\n",
    "    return {x_input:xs,y_input:ys,keep_prob:k}"
   ]
  },
  {
   "cell_type": "code",
   "execution_count": 106,
   "metadata": {},
   "outputs": [
    {
     "name": "stdout",
     "output_type": "stream",
     "text": [
      "Accuracy at step 0: 0.1175\n",
      "Accuracy at step 10: 0.7179\n",
      "Accuracy at step 20: 0.8358\n",
      "Accuracy at step 30: 0.8752\n",
      "Accuracy at step 40: 0.8884\n",
      "Accuracy at step 50: 0.8972\n",
      "Accuracy at step 60: 0.8979\n",
      "Accuracy at step 70: 0.9059\n",
      "Accuracy at step 80: 0.9106\n",
      "Accuracy at step 90: 0.913\n",
      "Adding run metadata for 99\n",
      "Accuracy at step 100: 0.9169\n",
      "Accuracy at step 110: 0.9206\n",
      "Accuracy at step 120: 0.9156\n",
      "Accuracy at step 130: 0.9239\n",
      "Accuracy at step 140: 0.9234\n",
      "Accuracy at step 150: 0.9293\n",
      "Accuracy at step 160: 0.9324\n",
      "Accuracy at step 170: 0.9333\n",
      "Accuracy at step 180: 0.9318\n",
      "Accuracy at step 190: 0.9332\n",
      "Adding run metadata for 199\n",
      "Accuracy at step 200: 0.9349\n",
      "Accuracy at step 210: 0.9375\n",
      "Accuracy at step 220: 0.938\n",
      "Accuracy at step 230: 0.9425\n",
      "Accuracy at step 240: 0.9414\n",
      "Accuracy at step 250: 0.9402\n",
      "Accuracy at step 260: 0.9441\n",
      "Accuracy at step 270: 0.9439\n",
      "Accuracy at step 280: 0.946\n",
      "Accuracy at step 290: 0.9448\n",
      "Adding run metadata for 299\n",
      "Accuracy at step 300: 0.9475\n",
      "Accuracy at step 310: 0.9447\n",
      "Accuracy at step 320: 0.9485\n",
      "Accuracy at step 330: 0.9478\n",
      "Accuracy at step 340: 0.951\n",
      "Accuracy at step 350: 0.9522\n",
      "Accuracy at step 360: 0.9515\n",
      "Accuracy at step 370: 0.9512\n",
      "Accuracy at step 380: 0.9538\n",
      "Accuracy at step 390: 0.954\n",
      "Adding run metadata for 399\n",
      "Accuracy at step 400: 0.9487\n",
      "Accuracy at step 410: 0.9498\n",
      "Accuracy at step 420: 0.9502\n",
      "Accuracy at step 430: 0.9525\n",
      "Accuracy at step 440: 0.9506\n",
      "Accuracy at step 450: 0.9501\n",
      "Accuracy at step 460: 0.9555\n",
      "Accuracy at step 470: 0.9519\n",
      "Accuracy at step 480: 0.9554\n",
      "Accuracy at step 490: 0.9549\n",
      "Adding run metadata for 499\n",
      "Accuracy at step 500: 0.9587\n",
      "Accuracy at step 510: 0.9586\n",
      "Accuracy at step 520: 0.9606\n",
      "Accuracy at step 530: 0.9581\n",
      "Accuracy at step 540: 0.9587\n",
      "Accuracy at step 550: 0.9597\n",
      "Accuracy at step 560: 0.9585\n",
      "Accuracy at step 570: 0.9598\n",
      "Accuracy at step 580: 0.9613\n",
      "Accuracy at step 590: 0.9597\n",
      "Adding run metadata for 599\n",
      "Accuracy at step 600: 0.9597\n",
      "Accuracy at step 610: 0.9627\n",
      "Accuracy at step 620: 0.9607\n",
      "Accuracy at step 630: 0.9603\n",
      "Accuracy at step 640: 0.9605\n",
      "Accuracy at step 650: 0.9622\n",
      "Accuracy at step 660: 0.9597\n",
      "Accuracy at step 670: 0.9646\n",
      "Accuracy at step 680: 0.9619\n",
      "Accuracy at step 690: 0.9635\n",
      "Adding run metadata for 699\n",
      "Accuracy at step 700: 0.9644\n",
      "Accuracy at step 710: 0.9641\n",
      "Accuracy at step 720: 0.965\n",
      "Accuracy at step 730: 0.9667\n",
      "Accuracy at step 740: 0.9662\n",
      "Accuracy at step 750: 0.965\n",
      "Accuracy at step 760: 0.9641\n",
      "Accuracy at step 770: 0.9669\n",
      "Accuracy at step 780: 0.9676\n",
      "Accuracy at step 790: 0.9654\n",
      "Adding run metadata for 799\n",
      "Accuracy at step 800: 0.9657\n",
      "Accuracy at step 810: 0.9646\n",
      "Accuracy at step 820: 0.9649\n",
      "Accuracy at step 830: 0.9671\n",
      "Accuracy at step 840: 0.9674\n",
      "Accuracy at step 850: 0.9645\n",
      "Accuracy at step 860: 0.9656\n",
      "Accuracy at step 870: 0.9657\n",
      "Accuracy at step 880: 0.9681\n",
      "Accuracy at step 890: 0.9655\n",
      "Adding run metadata for 899\n",
      "Accuracy at step 900: 0.9653\n",
      "Accuracy at step 910: 0.9676\n",
      "Accuracy at step 920: 0.9684\n",
      "Accuracy at step 930: 0.9699\n",
      "Accuracy at step 940: 0.9688\n",
      "Accuracy at step 950: 0.968\n",
      "Accuracy at step 960: 0.9652\n",
      "Accuracy at step 970: 0.9695\n",
      "Accuracy at step 980: 0.967\n",
      "Accuracy at step 990: 0.9689\n",
      "Adding run metadata for 999\n"
     ]
    }
   ],
   "source": [
    "for i in range(max_step):\n",
    "#     batch_x,batch_y=mnist.train.next_batch(50)\n",
    "    if i % 10 == 0:  # 记录测试集的summary与accuracy\n",
    "        summary, acc = sess.run([merged, accuracy], feed_dict=feed_dict(False))\n",
    "        test_writer.add_summary(summary, i)\n",
    "        print('Accuracy at step %s: %s' % (i, acc))\n",
    "    else:  # 记录训练集的summary\n",
    "        if i % 100 == 99:  # Record execution stats\n",
    "            # 这两个是干什么用的？\n",
    "            run_options = tf.RunOptions(trace_level=tf.RunOptions.FULL_TRACE)\n",
    "            run_metadata = tf.RunMetadata()\n",
    "            summary, _ = sess.run([merged, train_step],\n",
    "                                  feed_dict=feed_dict(True),\n",
    "                                  options=run_options,\n",
    "                                  run_metadata=run_metadata)\n",
    "#             train_writer.add_run_metadata(run_metadata, 'step%03d' % i)\n",
    "            train_writer.add_summary(summary, i)\n",
    "            print('Adding run metadata for', i)\n",
    "        else:  # Record a summary\n",
    "            summary, _ = sess.run([merged, train_step], feed_dict=feed_dict(True))\n",
    "            train_writer.add_summary(summary, i)\n",
    "# 请在最后关闭啊…\n",
    "train_writer.close()\n",
    "test_writer.close()\n"
   ]
  },
  {
   "cell_type": "code",
   "execution_count": null,
   "metadata": {},
   "outputs": [],
   "source": []
  },
  {
   "cell_type": "code",
   "execution_count": null,
   "metadata": {},
   "outputs": [],
   "source": []
  }
 ],
 "metadata": {
  "kernelspec": {
   "display_name": "Python 3",
   "language": "python",
   "name": "python3"
  },
  "language_info": {
   "codemirror_mode": {
    "name": "ipython",
    "version": 3
   },
   "file_extension": ".py",
   "mimetype": "text/x-python",
   "name": "python",
   "nbconvert_exporter": "python",
   "pygments_lexer": "ipython3",
   "version": "3.6.4"
  },
  "toc": {
   "base_numbering": 1,
   "nav_menu": {},
   "number_sections": true,
   "sideBar": true,
   "skip_h1_title": false,
   "title_cell": "Table of Contents",
   "title_sidebar": "Contents",
   "toc_cell": false,
   "toc_position": {},
   "toc_section_display": true,
   "toc_window_display": false
  }
 },
 "nbformat": 4,
 "nbformat_minor": 2
}
