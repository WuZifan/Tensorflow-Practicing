{
 "cells": [
  {
   "cell_type": "code",
   "execution_count": 3,
   "metadata": {},
   "outputs": [],
   "source": [
    "from tensorflow.examples.tutorials.mnist import input_data\n",
    "import tensorflow as tf\n",
    "import numpy as np"
   ]
  },
  {
   "cell_type": "code",
   "execution_count": 5,
   "metadata": {},
   "outputs": [
    {
     "name": "stdout",
     "output_type": "stream",
     "text": [
      "Extracting MNIST_data/train-images-idx3-ubyte.gz\n",
      "Extracting MNIST_data/train-labels-idx1-ubyte.gz\n",
      "Extracting MNIST_data/t10k-images-idx3-ubyte.gz\n",
      "Extracting MNIST_data/t10k-labels-idx1-ubyte.gz\n"
     ]
    }
   ],
   "source": [
    "mnist=input_data.read_data_sets('MNIST_data/',one_hot=True)"
   ]
  },
  {
   "cell_type": "markdown",
   "metadata": {},
   "source": [
    "## Mnist first try\n",
    "\n",
    "    1、单层MLP，输出用自己softmax进行放缩。\n",
    "    2、loss选择cross-entropy"
   ]
  },
  {
   "cell_type": "code",
   "execution_count": 22,
   "metadata": {},
   "outputs": [],
   "source": [
    "'''\n",
    "图像用784维的向量表示\n",
    "label用10维的向量表示\n",
    "我们需要将一个784维的向量映射到10维的向量上\n",
    "\n",
    "一层神经网络\n",
    "\n",
    "'''\n",
    "# 加载数据\n",
    "image_size=784\n",
    "label_size=10\n",
    "# 所以这里下次还不是要命名为这个train后缀了，太有迷惑性了\n",
    "# 命名为input可能会好一点，然后在train和test的步骤分别输入不同的数据即可 \n",
    "x_input=tf.placeholder(shape=(None,image_size),dtype=tf.float32)\n",
    "y_input=tf.placeholder(shape=(None,label_size),dtype=tf.float32)\n",
    "\n",
    "# 简单神经网络\n",
    "# 相当于使用一个给定size的矩阵来初始化W\n",
    "W=tf.Variable(initial_value=tf.zeros([image_size,label_size]))\n",
    "b=tf.Variable(initial_value=tf.zeros([label_size]))\n",
    "\n",
    "y_output=tf.nn.softmax(tf.matmul(x_input,W)+b)\n",
    "\n",
    "# 还有loss定义\n",
    "\n",
    "loss=-tf.reduce_sum(y_input*tf.log(y_output))\n",
    "train_step=tf.train.GradientDescentOptimizer(learning_rate=0.01).minimize(loss)"
   ]
  },
  {
   "cell_type": "code",
   "execution_count": 24,
   "metadata": {},
   "outputs": [],
   "source": [
    "# 评估\n",
    "# 第一项是预测值，第二项是真值。根据输入的内容不同来计算\n",
    "correct_place=tf.equal(tf.argmax(y_output,1),tf.argmax(y_input,1))\n",
    "\n",
    "accuracy=tf.reduce_mean(tf.cast(correct_place,'float'))\n"
   ]
  },
  {
   "cell_type": "code",
   "execution_count": 25,
   "metadata": {},
   "outputs": [
    {
     "name": "stdout",
     "output_type": "stream",
     "text": [
      "0 148.45375\n",
      "50 29.131947\n",
      "100 23.077423\n",
      "150 24.698631\n",
      "200 32.699097\n",
      "250 25.220123\n",
      "300 18.57993\n",
      "350 21.53984\n",
      "400 20.046234\n",
      "450 15.719261\n",
      "500 17.975788\n",
      "550 11.018141\n",
      "600 17.187658\n",
      "650 16.328846\n",
      "700 23.269932\n",
      "750 23.074778\n",
      "800 20.17444\n",
      "850 15.583145\n",
      "900 17.320763\n",
      "950 14.836184\n",
      "0.9162\n"
     ]
    }
   ],
   "source": [
    "init=tf.global_variables_initializer()\n",
    "with tf.Session() as sess:\n",
    "    sess.run(init)\n",
    "    for i in range(1000):\n",
    "        batch_x,batch_y=mnist.train.next_batch(100)\n",
    "        result=sess.run(train_step,feed_dict={x_input:batch_x,y_input:batch_y})\n",
    "        if i% 50 ==0:\n",
    "            print(i,sess.run(loss,feed_dict={x_input:batch_x,y_input:batch_y}))\n",
    "    \n",
    "    temp_accu=sess.run(accuracy,feed_dict={x_input:mnist.test.images,\n",
    "                                           y_input:mnist.test.labels})\n",
    "    print(temp_accu) # 我去，loss这么高还有这个尿性= - "
   ]
  },
  {
   "cell_type": "markdown",
   "metadata": {},
   "source": [
    "## Mnist second try：\n",
    "\n",
    "    1、Convolution"
   ]
  },
  {
   "cell_type": "code",
   "execution_count": 48,
   "metadata": {},
   "outputs": [],
   "source": [
    "# 初始化参数\n",
    "def weight_variable(shape):\n",
    "    initial = tf.truncated_normal(shape,stddev=0.1)\n",
    "    return tf.Variable(initial)\n",
    "\n",
    "def bias_variable(shape):\n",
    "    '''\n",
    "    bias的初始化会有比较大的影响，如果采用truncated_nomal初始化的话\n",
    "    模型貌似是不能收敛的\n",
    "    '''\n",
    "    initial = tf.constant(0.1,shape=shape)\n",
    "    return tf.Variable(initial)"
   ]
  },
  {
   "cell_type": "code",
   "execution_count": 49,
   "metadata": {},
   "outputs": [],
   "source": [
    "# 定义卷积层和池化层\n",
    "def conv2d(x,W):\n",
    "    '''\n",
    "     x表示输入图像，具体定义：[batch, in_height, in_width, in_channels]`\n",
    "     W表示自定义的卷积核，具体定义如下：[filter_height, filter_width, in_channels, out_channels]\n",
    "     strids表示步长的维度信息，定义如下：[filter_height, filter_width, in_channels, out_channels]\n",
    "    '''\n",
    "    return tf.nn.conv2d(x,W,strides=[1,1,1,1],padding='SAME')\n",
    "\n",
    "def max_pool_2x2(x):\n",
    "    '''\n",
    "    x：[batch, in_height, in_width, in_channels]4个维度的\n",
    "    ksize表示pool所有核的维度信息，4个参数对应于输入x的四个维度的pool\n",
    "    stride：表示步长的维度信息\n",
    "    '''\n",
    "    return tf.nn.max_pool(x,ksize=[1,2,2,1],strides=[1,2,2,1],padding='SAME')\n",
    "\n"
   ]
  },
  {
   "cell_type": "code",
   "execution_count": 50,
   "metadata": {},
   "outputs": [],
   "source": [
    "'''\n",
    "input_layer\n",
    "'''\n",
    "x_input=tf.placeholder(shape=(None,784),dtype=tf.float32)\n",
    "y_input=tf.placeholder(shape=(None,10),dtype=tf.float32)"
   ]
  },
  {
   "cell_type": "code",
   "execution_count": 51,
   "metadata": {},
   "outputs": [],
   "source": [
    "'''\n",
    "first layer conv\n",
    "这里比较奇怪，相当于我们要先将卷积核定义好，然后再输入\n",
    "''' \n",
    "# 第一层卷积核size为5*5，输入图像channel为1，输出feature-map的channel为32\n",
    "W_conv1=weight_variable([5,5,1,32])\n",
    "b_conv1=bias_variable([32])\n",
    "\n",
    "# 把输入变回28*28的图像\n",
    "x_image=tf.reshape(x_input,shape=[-1,28,28,1])\n",
    "\n",
    "# 做卷积\n",
    "h_conv1 = tf.nn.relu(conv2d(x_image,W_conv1)+b_conv1)\n",
    "h_pool1 = max_pool_2x2(h_conv1)"
   ]
  },
  {
   "cell_type": "code",
   "execution_count": 52,
   "metadata": {},
   "outputs": [],
   "source": [
    "'''\n",
    "second layer conv\n",
    "'''\n",
    "W_conv2 = weight_variable([5,5,32,64])\n",
    "b_conv2 = bias_variable([64])\n",
    "\n",
    "h_conv2 = tf.nn.relu(conv2d(h_pool1,W_conv2)+b_conv2)\n",
    "h_pool2 = max_pool_2x2(h_conv2)"
   ]
  },
  {
   "cell_type": "code",
   "execution_count": 53,
   "metadata": {},
   "outputs": [],
   "source": [
    "'''\n",
    "Dense layer\n",
    "'''\n",
    "W_fc1=weight_variable([7*7*64,1024])\n",
    "b_fc1=bias_variable([1024])\n",
    "\n",
    "h_pool2_flat=tf.reshape(h_pool2,shape=[-1,7*7*64])\n",
    "h_fc1=tf.nn.relu(tf.matmul(h_pool2_flat,W_fc1)+b_fc1)"
   ]
  },
  {
   "cell_type": "code",
   "execution_count": 54,
   "metadata": {},
   "outputs": [],
   "source": [
    "'''\n",
    "Drop layer\n",
    "'''\n",
    "keep_prob=tf.placeholder(dtype=tf.float32)\n",
    "h_fc1_drop=tf.nn.dropout(h_fc1,keep_prob)"
   ]
  },
  {
   "cell_type": "code",
   "execution_count": 55,
   "metadata": {},
   "outputs": [],
   "source": [
    "'''\n",
    "output_layer\n",
    "'''\n",
    "W_fc2=weight_variable([1024,10])\n",
    "b_fc2=weight_variable([10])\n",
    "\n",
    "y_conv=tf.nn.softmax(tf.matmul(h_fc1_drop,W_fc2)+b_fc2)"
   ]
  },
  {
   "cell_type": "code",
   "execution_count": 56,
   "metadata": {},
   "outputs": [],
   "source": [
    "'''\n",
    "define loss\n",
    "cross entropy\n",
    "'''\n",
    "loss=-tf.reduce_sum(y_input*tf.log(y_conv))\n",
    "trainer=tf.train.AdamOptimizer(learning_rate=1e-4).minimize(loss)"
   ]
  },
  {
   "cell_type": "code",
   "execution_count": 63,
   "metadata": {},
   "outputs": [],
   "source": [
    "'''\n",
    "evaluate model\n",
    "'''\n",
    "# 所以之前准确率低是这里的写错了\n",
    "correct_pred=tf.equal(tf.argmax(y_conv,1),tf.argmax(y_input,1))\n",
    "# 计算均值，cast之后的correct_pred相当于是【0,0,0,1,1,1,0】这样的数组，\n",
    "# 算出它的均值就是对应的accuracy了\n",
    "accuracy=tf.reduce_mean(tf.cast(correct_pred,'float'))"
   ]
  },
  {
   "cell_type": "code",
   "execution_count": 64,
   "metadata": {},
   "outputs": [
    {
     "name": "stdout",
     "output_type": "stream",
     "text": [
      "0 0.12\n",
      "1 0.82\n",
      "2 0.86\n",
      "3 0.94\n",
      "4 0.94\n",
      "5 0.96\n",
      "6 1.0\n",
      "7 0.9\n",
      "8 0.98\n",
      "9 0.98\n",
      "10 1.0\n",
      "11 0.92\n",
      "12 0.96\n",
      "13 0.96\n",
      "14 0.98\n",
      "15 1.0\n",
      "16 0.96\n",
      "17 0.98\n",
      "18 1.0\n",
      "19 0.96\n",
      "20 0.96\n",
      "21 0.96\n",
      "22 1.0\n",
      "23 0.96\n",
      "24 1.0\n",
      "25 0.96\n",
      "26 1.0\n",
      "27 1.0\n",
      "28 0.98\n",
      "29 1.0\n",
      "30 0.94\n",
      "31 1.0\n",
      "32 0.98\n",
      "33 0.96\n",
      "34 0.94\n",
      "35 1.0\n",
      "36 1.0\n",
      "37 0.98\n",
      "38 1.0\n",
      "39 1.0\n",
      "40 1.0\n",
      "41 0.98\n",
      "42 0.98\n",
      "43 1.0\n",
      "44 0.98\n",
      "45 1.0\n",
      "46 0.98\n",
      "47 1.0\n",
      "48 1.0\n",
      "49 0.98\n",
      "50 1.0\n",
      "51 1.0\n",
      "52 1.0\n",
      "53 1.0\n",
      "54 0.98\n",
      "55 0.98\n",
      "56 1.0\n",
      "57 0.98\n",
      "58 1.0\n",
      "59 1.0\n",
      "60 1.0\n",
      "61 1.0\n",
      "62 0.98\n",
      "63 0.98\n",
      "64 0.98\n",
      "65 0.98\n",
      "66 0.98\n",
      "67 1.0\n",
      "68 1.0\n",
      "69 0.96\n",
      "70 1.0\n",
      "71 1.0\n",
      "72 1.0\n",
      "73 1.0\n",
      "74 1.0\n",
      "75 1.0\n",
      "76 1.0\n",
      "77 0.98\n",
      "78 0.98\n",
      "79 1.0\n",
      "80 1.0\n",
      "81 1.0\n",
      "82 0.98\n",
      "83 1.0\n",
      "84 1.0\n",
      "85 1.0\n",
      "86 1.0\n",
      "87 0.98\n",
      "88 1.0\n",
      "89 0.98\n",
      "90 1.0\n",
      "91 0.98\n",
      "92 1.0\n",
      "93 1.0\n",
      "94 0.98\n",
      "95 1.0\n",
      "96 1.0\n",
      "97 1.0\n",
      "98 0.98\n"
     ]
    },
    {
     "ename": "KeyboardInterrupt",
     "evalue": "",
     "output_type": "error",
     "traceback": [
      "\u001b[1;31m---------------------------------------------------------------------------\u001b[0m",
      "\u001b[1;31mKeyboardInterrupt\u001b[0m                         Traceback (most recent call last)",
      "\u001b[1;32m<ipython-input-64-a69785e7a178>\u001b[0m in \u001b[0;36m<module>\u001b[1;34m()\u001b[0m\n\u001b[0;32m      9\u001b[0m         sess.run(trainer,feed_dict={x_input:batch_x,\n\u001b[0;32m     10\u001b[0m                                     \u001b[0my_input\u001b[0m\u001b[1;33m:\u001b[0m\u001b[0mbatch_y\u001b[0m\u001b[1;33m,\u001b[0m\u001b[1;33m\u001b[0m\u001b[0m\n\u001b[1;32m---> 11\u001b[1;33m                                     keep_prob:0.5})\n\u001b[0m\u001b[0;32m     12\u001b[0m         \u001b[1;32mif\u001b[0m \u001b[0mi\u001b[0m\u001b[1;33m%\u001b[0m\u001b[1;36m100\u001b[0m\u001b[1;33m==\u001b[0m\u001b[1;36m0\u001b[0m\u001b[1;33m:\u001b[0m\u001b[1;33m\u001b[0m\u001b[0m\n\u001b[0;32m     13\u001b[0m             result=sess.run(accuracy,feed_dict={x_input:batch_x,\n",
      "\u001b[1;32mE:\\Python\\PY3.6\\lib\\site-packages\\tensorflow\\python\\client\\session.py\u001b[0m in \u001b[0;36mrun\u001b[1;34m(self, fetches, feed_dict, options, run_metadata)\u001b[0m\n\u001b[0;32m    903\u001b[0m     \u001b[1;32mtry\u001b[0m\u001b[1;33m:\u001b[0m\u001b[1;33m\u001b[0m\u001b[0m\n\u001b[0;32m    904\u001b[0m       result = self._run(None, fetches, feed_dict, options_ptr,\n\u001b[1;32m--> 905\u001b[1;33m                          run_metadata_ptr)\n\u001b[0m\u001b[0;32m    906\u001b[0m       \u001b[1;32mif\u001b[0m \u001b[0mrun_metadata\u001b[0m\u001b[1;33m:\u001b[0m\u001b[1;33m\u001b[0m\u001b[0m\n\u001b[0;32m    907\u001b[0m         \u001b[0mproto_data\u001b[0m \u001b[1;33m=\u001b[0m \u001b[0mtf_session\u001b[0m\u001b[1;33m.\u001b[0m\u001b[0mTF_GetBuffer\u001b[0m\u001b[1;33m(\u001b[0m\u001b[0mrun_metadata_ptr\u001b[0m\u001b[1;33m)\u001b[0m\u001b[1;33m\u001b[0m\u001b[0m\n",
      "\u001b[1;32mE:\\Python\\PY3.6\\lib\\site-packages\\tensorflow\\python\\client\\session.py\u001b[0m in \u001b[0;36m_run\u001b[1;34m(self, handle, fetches, feed_dict, options, run_metadata)\u001b[0m\n\u001b[0;32m   1135\u001b[0m     \u001b[1;32mif\u001b[0m \u001b[0mfinal_fetches\u001b[0m \u001b[1;32mor\u001b[0m \u001b[0mfinal_targets\u001b[0m \u001b[1;32mor\u001b[0m \u001b[1;33m(\u001b[0m\u001b[0mhandle\u001b[0m \u001b[1;32mand\u001b[0m \u001b[0mfeed_dict_tensor\u001b[0m\u001b[1;33m)\u001b[0m\u001b[1;33m:\u001b[0m\u001b[1;33m\u001b[0m\u001b[0m\n\u001b[0;32m   1136\u001b[0m       results = self._do_run(handle, final_targets, final_fetches,\n\u001b[1;32m-> 1137\u001b[1;33m                              feed_dict_tensor, options, run_metadata)\n\u001b[0m\u001b[0;32m   1138\u001b[0m     \u001b[1;32melse\u001b[0m\u001b[1;33m:\u001b[0m\u001b[1;33m\u001b[0m\u001b[0m\n\u001b[0;32m   1139\u001b[0m       \u001b[0mresults\u001b[0m \u001b[1;33m=\u001b[0m \u001b[1;33m[\u001b[0m\u001b[1;33m]\u001b[0m\u001b[1;33m\u001b[0m\u001b[0m\n",
      "\u001b[1;32mE:\\Python\\PY3.6\\lib\\site-packages\\tensorflow\\python\\client\\session.py\u001b[0m in \u001b[0;36m_do_run\u001b[1;34m(self, handle, target_list, fetch_list, feed_dict, options, run_metadata)\u001b[0m\n\u001b[0;32m   1353\u001b[0m     \u001b[1;32mif\u001b[0m \u001b[0mhandle\u001b[0m \u001b[1;32mis\u001b[0m \u001b[1;32mNone\u001b[0m\u001b[1;33m:\u001b[0m\u001b[1;33m\u001b[0m\u001b[0m\n\u001b[0;32m   1354\u001b[0m       return self._do_call(_run_fn, self._session, feeds, fetches, targets,\n\u001b[1;32m-> 1355\u001b[1;33m                            options, run_metadata)\n\u001b[0m\u001b[0;32m   1356\u001b[0m     \u001b[1;32melse\u001b[0m\u001b[1;33m:\u001b[0m\u001b[1;33m\u001b[0m\u001b[0m\n\u001b[0;32m   1357\u001b[0m       \u001b[1;32mreturn\u001b[0m \u001b[0mself\u001b[0m\u001b[1;33m.\u001b[0m\u001b[0m_do_call\u001b[0m\u001b[1;33m(\u001b[0m\u001b[0m_prun_fn\u001b[0m\u001b[1;33m,\u001b[0m \u001b[0mself\u001b[0m\u001b[1;33m.\u001b[0m\u001b[0m_session\u001b[0m\u001b[1;33m,\u001b[0m \u001b[0mhandle\u001b[0m\u001b[1;33m,\u001b[0m \u001b[0mfeeds\u001b[0m\u001b[1;33m,\u001b[0m \u001b[0mfetches\u001b[0m\u001b[1;33m)\u001b[0m\u001b[1;33m\u001b[0m\u001b[0m\n",
      "\u001b[1;32mE:\\Python\\PY3.6\\lib\\site-packages\\tensorflow\\python\\client\\session.py\u001b[0m in \u001b[0;36m_do_call\u001b[1;34m(self, fn, *args)\u001b[0m\n\u001b[0;32m   1359\u001b[0m   \u001b[1;32mdef\u001b[0m \u001b[0m_do_call\u001b[0m\u001b[1;33m(\u001b[0m\u001b[0mself\u001b[0m\u001b[1;33m,\u001b[0m \u001b[0mfn\u001b[0m\u001b[1;33m,\u001b[0m \u001b[1;33m*\u001b[0m\u001b[0margs\u001b[0m\u001b[1;33m)\u001b[0m\u001b[1;33m:\u001b[0m\u001b[1;33m\u001b[0m\u001b[0m\n\u001b[0;32m   1360\u001b[0m     \u001b[1;32mtry\u001b[0m\u001b[1;33m:\u001b[0m\u001b[1;33m\u001b[0m\u001b[0m\n\u001b[1;32m-> 1361\u001b[1;33m       \u001b[1;32mreturn\u001b[0m \u001b[0mfn\u001b[0m\u001b[1;33m(\u001b[0m\u001b[1;33m*\u001b[0m\u001b[0margs\u001b[0m\u001b[1;33m)\u001b[0m\u001b[1;33m\u001b[0m\u001b[0m\n\u001b[0m\u001b[0;32m   1362\u001b[0m     \u001b[1;32mexcept\u001b[0m \u001b[0merrors\u001b[0m\u001b[1;33m.\u001b[0m\u001b[0mOpError\u001b[0m \u001b[1;32mas\u001b[0m \u001b[0me\u001b[0m\u001b[1;33m:\u001b[0m\u001b[1;33m\u001b[0m\u001b[0m\n\u001b[0;32m   1363\u001b[0m       \u001b[0mmessage\u001b[0m \u001b[1;33m=\u001b[0m \u001b[0mcompat\u001b[0m\u001b[1;33m.\u001b[0m\u001b[0mas_text\u001b[0m\u001b[1;33m(\u001b[0m\u001b[0me\u001b[0m\u001b[1;33m.\u001b[0m\u001b[0mmessage\u001b[0m\u001b[1;33m)\u001b[0m\u001b[1;33m\u001b[0m\u001b[0m\n",
      "\u001b[1;32mE:\\Python\\PY3.6\\lib\\site-packages\\tensorflow\\python\\client\\session.py\u001b[0m in \u001b[0;36m_run_fn\u001b[1;34m(session, feed_dict, fetch_list, target_list, options, run_metadata)\u001b[0m\n\u001b[0;32m   1338\u001b[0m         \u001b[1;32melse\u001b[0m\u001b[1;33m:\u001b[0m\u001b[1;33m\u001b[0m\u001b[0m\n\u001b[0;32m   1339\u001b[0m           return tf_session.TF_Run(session, options, feed_dict, fetch_list,\n\u001b[1;32m-> 1340\u001b[1;33m                                    target_list, status, run_metadata)\n\u001b[0m\u001b[0;32m   1341\u001b[0m \u001b[1;33m\u001b[0m\u001b[0m\n\u001b[0;32m   1342\u001b[0m     \u001b[1;32mdef\u001b[0m \u001b[0m_prun_fn\u001b[0m\u001b[1;33m(\u001b[0m\u001b[0msession\u001b[0m\u001b[1;33m,\u001b[0m \u001b[0mhandle\u001b[0m\u001b[1;33m,\u001b[0m \u001b[0mfeed_dict\u001b[0m\u001b[1;33m,\u001b[0m \u001b[0mfetch_list\u001b[0m\u001b[1;33m)\u001b[0m\u001b[1;33m:\u001b[0m\u001b[1;33m\u001b[0m\u001b[0m\n",
      "\u001b[1;31mKeyboardInterrupt\u001b[0m: "
     ]
    }
   ],
   "source": [
    "'''\n",
    "train\n",
    "'''\n",
    "init=tf.global_variables_initializer()\n",
    "with tf.Session() as sess:\n",
    "    sess.run(init)\n",
    "    for i in range(20000):\n",
    "        batch_x,batch_y=mnist.train.next_batch(50)\n",
    "        sess.run(trainer,feed_dict={x_input:batch_x,\n",
    "                                    y_input:batch_y,\n",
    "                                    keep_prob:0.5})\n",
    "        if i%100==0:\n",
    "            result=sess.run(accuracy,feed_dict={x_input:batch_x,\n",
    "                                                y_input:batch_y,\n",
    "                                                keep_prob:1})\n",
    "            print(int(i/100),result)\n",
    "    batch_test_x=mnist.test.images\n",
    "    batch_test_y=mnist.test.labels\n",
    "    all_test=sess.run(accuracy,feed_dict={x_input:batch_test_x,\n",
    "                                          y_input:batch_test_y,\n",
    "                                          keep_prob:1.0})\n",
    "    print(all_test)"
   ]
  },
  {
   "cell_type": "code",
   "execution_count": null,
   "metadata": {},
   "outputs": [],
   "source": []
  }
 ],
 "metadata": {
  "kernelspec": {
   "display_name": "Python 3",
   "language": "python",
   "name": "python3"
  },
  "language_info": {
   "codemirror_mode": {
    "name": "ipython",
    "version": 3
   },
   "file_extension": ".py",
   "mimetype": "text/x-python",
   "name": "python",
   "nbconvert_exporter": "python",
   "pygments_lexer": "ipython3",
   "version": "3.6.4"
  },
  "toc": {
   "base_numbering": 1,
   "nav_menu": {},
   "number_sections": true,
   "sideBar": true,
   "skip_h1_title": false,
   "title_cell": "Table of Contents",
   "title_sidebar": "Contents",
   "toc_cell": false,
   "toc_position": {},
   "toc_section_display": true,
   "toc_window_display": true
  }
 },
 "nbformat": 4,
 "nbformat_minor": 2
}
